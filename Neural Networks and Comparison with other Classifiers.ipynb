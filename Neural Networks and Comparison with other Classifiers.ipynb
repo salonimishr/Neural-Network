{
 "cells": [
  {
   "cell_type": "code",
   "execution_count": 1,
   "metadata": {
    "id": "wf2wPQqrMA1-"
   },
   "outputs": [],
   "source": [
    "import pandas as pd\n",
    "import seaborn as sns\n",
    "import matplotlib.pyplot as plt"
   ]
  },
  {
   "cell_type": "code",
   "execution_count": 2,
   "metadata": {
    "colab": {
     "base_uri": "https://localhost:8080/",
     "height": 35
    },
    "id": "dnu9a7KN3Qql",
    "outputId": "d42e75f4-bba8-4e4c-86d7-fcb08e31cc72"
   },
   "outputs": [
    {
     "name": "stdout",
     "output_type": "stream",
     "text": [
      "Mounted at /content/drive\n"
     ]
    }
   ],
   "source": [
    "from google.colab import drive\n",
    "drive.mount('/content/drive')"
   ]
  },
  {
   "cell_type": "code",
   "execution_count": 3,
   "metadata": {
    "colab": {
     "base_uri": "https://localhost:8080/",
     "height": 73,
     "resources": {
      "http://localhost:8080/nbextensions/google.colab/files.js": {
       "data": "Ly8gQ29weXJpZ2h0IDIwMTcgR29vZ2xlIExMQwovLwovLyBMaWNlbnNlZCB1bmRlciB0aGUgQXBhY2hlIExpY2Vuc2UsIFZlcnNpb24gMi4wICh0aGUgIkxpY2Vuc2UiKTsKLy8geW91IG1heSBub3QgdXNlIHRoaXMgZmlsZSBleGNlcHQgaW4gY29tcGxpYW5jZSB3aXRoIHRoZSBMaWNlbnNlLgovLyBZb3UgbWF5IG9idGFpbiBhIGNvcHkgb2YgdGhlIExpY2Vuc2UgYXQKLy8KLy8gICAgICBodHRwOi8vd3d3LmFwYWNoZS5vcmcvbGljZW5zZXMvTElDRU5TRS0yLjAKLy8KLy8gVW5sZXNzIHJlcXVpcmVkIGJ5IGFwcGxpY2FibGUgbGF3IG9yIGFncmVlZCB0byBpbiB3cml0aW5nLCBzb2Z0d2FyZQovLyBkaXN0cmlidXRlZCB1bmRlciB0aGUgTGljZW5zZSBpcyBkaXN0cmlidXRlZCBvbiBhbiAiQVMgSVMiIEJBU0lTLAovLyBXSVRIT1VUIFdBUlJBTlRJRVMgT1IgQ09ORElUSU9OUyBPRiBBTlkgS0lORCwgZWl0aGVyIGV4cHJlc3Mgb3IgaW1wbGllZC4KLy8gU2VlIHRoZSBMaWNlbnNlIGZvciB0aGUgc3BlY2lmaWMgbGFuZ3VhZ2UgZ292ZXJuaW5nIHBlcm1pc3Npb25zIGFuZAovLyBsaW1pdGF0aW9ucyB1bmRlciB0aGUgTGljZW5zZS4KCi8qKgogKiBAZmlsZW92ZXJ2aWV3IEhlbHBlcnMgZm9yIGdvb2dsZS5jb2xhYiBQeXRob24gbW9kdWxlLgogKi8KKGZ1bmN0aW9uKHNjb3BlKSB7CmZ1bmN0aW9uIHNwYW4odGV4dCwgc3R5bGVBdHRyaWJ1dGVzID0ge30pIHsKICBjb25zdCBlbGVtZW50ID0gZG9jdW1lbnQuY3JlYXRlRWxlbWVudCgnc3BhbicpOwogIGVsZW1lbnQudGV4dENvbnRlbnQgPSB0ZXh0OwogIGZvciAoY29uc3Qga2V5IG9mIE9iamVjdC5rZXlzKHN0eWxlQXR0cmlidXRlcykpIHsKICAgIGVsZW1lbnQuc3R5bGVba2V5XSA9IHN0eWxlQXR0cmlidXRlc1trZXldOwogIH0KICByZXR1cm4gZWxlbWVudDsKfQoKLy8gTWF4IG51bWJlciBvZiBieXRlcyB3aGljaCB3aWxsIGJlIHVwbG9hZGVkIGF0IGEgdGltZS4KY29uc3QgTUFYX1BBWUxPQURfU0laRSA9IDEwMCAqIDEwMjQ7CgpmdW5jdGlvbiBfdXBsb2FkRmlsZXMoaW5wdXRJZCwgb3V0cHV0SWQpIHsKICBjb25zdCBzdGVwcyA9IHVwbG9hZEZpbGVzU3RlcChpbnB1dElkLCBvdXRwdXRJZCk7CiAgY29uc3Qgb3V0cHV0RWxlbWVudCA9IGRvY3VtZW50LmdldEVsZW1lbnRCeUlkKG91dHB1dElkKTsKICAvLyBDYWNoZSBzdGVwcyBvbiB0aGUgb3V0cHV0RWxlbWVudCB0byBtYWtlIGl0IGF2YWlsYWJsZSBmb3IgdGhlIG5leHQgY2FsbAogIC8vIHRvIHVwbG9hZEZpbGVzQ29udGludWUgZnJvbSBQeXRob24uCiAgb3V0cHV0RWxlbWVudC5zdGVwcyA9IHN0ZXBzOwoKICByZXR1cm4gX3VwbG9hZEZpbGVzQ29udGludWUob3V0cHV0SWQpOwp9CgovLyBUaGlzIGlzIHJvdWdobHkgYW4gYXN5bmMgZ2VuZXJhdG9yIChub3Qgc3VwcG9ydGVkIGluIHRoZSBicm93c2VyIHlldCksCi8vIHdoZXJlIHRoZXJlIGFyZSBtdWx0aXBsZSBhc3luY2hyb25vdXMgc3RlcHMgYW5kIHRoZSBQeXRob24gc2lkZSBpcyBnb2luZwovLyB0byBwb2xsIGZvciBjb21wbGV0aW9uIG9mIGVhY2ggc3RlcC4KLy8gVGhpcyB1c2VzIGEgUHJvbWlzZSB0byBibG9jayB0aGUgcHl0aG9uIHNpZGUgb24gY29tcGxldGlvbiBvZiBlYWNoIHN0ZXAsCi8vIHRoZW4gcGFzc2VzIHRoZSByZXN1bHQgb2YgdGhlIHByZXZpb3VzIHN0ZXAgYXMgdGhlIGlucHV0IHRvIHRoZSBuZXh0IHN0ZXAuCmZ1bmN0aW9uIF91cGxvYWRGaWxlc0NvbnRpbnVlKG91dHB1dElkKSB7CiAgY29uc3Qgb3V0cHV0RWxlbWVudCA9IGRvY3VtZW50LmdldEVsZW1lbnRCeUlkKG91dHB1dElkKTsKICBjb25zdCBzdGVwcyA9IG91dHB1dEVsZW1lbnQuc3RlcHM7CgogIGNvbnN0IG5leHQgPSBzdGVwcy5uZXh0KG91dHB1dEVsZW1lbnQubGFzdFByb21pc2VWYWx1ZSk7CiAgcmV0dXJuIFByb21pc2UucmVzb2x2ZShuZXh0LnZhbHVlLnByb21pc2UpLnRoZW4oKHZhbHVlKSA9PiB7CiAgICAvLyBDYWNoZSB0aGUgbGFzdCBwcm9taXNlIHZhbHVlIHRvIG1ha2UgaXQgYXZhaWxhYmxlIHRvIHRoZSBuZXh0CiAgICAvLyBzdGVwIG9mIHRoZSBnZW5lcmF0b3IuCiAgICBvdXRwdXRFbGVtZW50Lmxhc3RQcm9taXNlVmFsdWUgPSB2YWx1ZTsKICAgIHJldHVybiBuZXh0LnZhbHVlLnJlc3BvbnNlOwogIH0pOwp9CgovKioKICogR2VuZXJhdG9yIGZ1bmN0aW9uIHdoaWNoIGlzIGNhbGxlZCBiZXR3ZWVuIGVhY2ggYXN5bmMgc3RlcCBvZiB0aGUgdXBsb2FkCiAqIHByb2Nlc3MuCiAqIEBwYXJhbSB7c3RyaW5nfSBpbnB1dElkIEVsZW1lbnQgSUQgb2YgdGhlIGlucHV0IGZpbGUgcGlja2VyIGVsZW1lbnQuCiAqIEBwYXJhbSB7c3RyaW5nfSBvdXRwdXRJZCBFbGVtZW50IElEIG9mIHRoZSBvdXRwdXQgZGlzcGxheS4KICogQHJldHVybiB7IUl0ZXJhYmxlPCFPYmplY3Q+fSBJdGVyYWJsZSBvZiBuZXh0IHN0ZXBzLgogKi8KZnVuY3Rpb24qIHVwbG9hZEZpbGVzU3RlcChpbnB1dElkLCBvdXRwdXRJZCkgewogIGNvbnN0IGlucHV0RWxlbWVudCA9IGRvY3VtZW50LmdldEVsZW1lbnRCeUlkKGlucHV0SWQpOwogIGlucHV0RWxlbWVudC5kaXNhYmxlZCA9IGZhbHNlOwoKICBjb25zdCBvdXRwdXRFbGVtZW50ID0gZG9jdW1lbnQuZ2V0RWxlbWVudEJ5SWQob3V0cHV0SWQpOwogIG91dHB1dEVsZW1lbnQuaW5uZXJIVE1MID0gJyc7CgogIGNvbnN0IHBpY2tlZFByb21pc2UgPSBuZXcgUHJvbWlzZSgocmVzb2x2ZSkgPT4gewogICAgaW5wdXRFbGVtZW50LmFkZEV2ZW50TGlzdGVuZXIoJ2NoYW5nZScsIChlKSA9PiB7CiAgICAgIHJlc29sdmUoZS50YXJnZXQuZmlsZXMpOwogICAgfSk7CiAgfSk7CgogIGNvbnN0IGNhbmNlbCA9IGRvY3VtZW50LmNyZWF0ZUVsZW1lbnQoJ2J1dHRvbicpOwogIGlucHV0RWxlbWVudC5wYXJlbnRFbGVtZW50LmFwcGVuZENoaWxkKGNhbmNlbCk7CiAgY2FuY2VsLnRleHRDb250ZW50ID0gJ0NhbmNlbCB1cGxvYWQnOwogIGNvbnN0IGNhbmNlbFByb21pc2UgPSBuZXcgUHJvbWlzZSgocmVzb2x2ZSkgPT4gewogICAgY2FuY2VsLm9uY2xpY2sgPSAoKSA9PiB7CiAgICAgIHJlc29sdmUobnVsbCk7CiAgICB9OwogIH0pOwoKICAvLyBXYWl0IGZvciB0aGUgdXNlciB0byBwaWNrIHRoZSBmaWxlcy4KICBjb25zdCBmaWxlcyA9IHlpZWxkIHsKICAgIHByb21pc2U6IFByb21pc2UucmFjZShbcGlja2VkUHJvbWlzZSwgY2FuY2VsUHJvbWlzZV0pLAogICAgcmVzcG9uc2U6IHsKICAgICAgYWN0aW9uOiAnc3RhcnRpbmcnLAogICAgfQogIH07CgogIGNhbmNlbC5yZW1vdmUoKTsKCiAgLy8gRGlzYWJsZSB0aGUgaW5wdXQgZWxlbWVudCBzaW5jZSBmdXJ0aGVyIHBpY2tzIGFyZSBub3QgYWxsb3dlZC4KICBpbnB1dEVsZW1lbnQuZGlzYWJsZWQgPSB0cnVlOwoKICBpZiAoIWZpbGVzKSB7CiAgICByZXR1cm4gewogICAgICByZXNwb25zZTogewogICAgICAgIGFjdGlvbjogJ2NvbXBsZXRlJywKICAgICAgfQogICAgfTsKICB9CgogIGZvciAoY29uc3QgZmlsZSBvZiBmaWxlcykgewogICAgY29uc3QgbGkgPSBkb2N1bWVudC5jcmVhdGVFbGVtZW50KCdsaScpOwogICAgbGkuYXBwZW5kKHNwYW4oZmlsZS5uYW1lLCB7Zm9udFdlaWdodDogJ2JvbGQnfSkpOwogICAgbGkuYXBwZW5kKHNwYW4oCiAgICAgICAgYCgke2ZpbGUudHlwZSB8fCAnbi9hJ30pIC0gJHtmaWxlLnNpemV9IGJ5dGVzLCBgICsKICAgICAgICBgbGFzdCBtb2RpZmllZDogJHsKICAgICAgICAgICAgZmlsZS5sYXN0TW9kaWZpZWREYXRlID8gZmlsZS5sYXN0TW9kaWZpZWREYXRlLnRvTG9jYWxlRGF0ZVN0cmluZygpIDoKICAgICAgICAgICAgICAgICAgICAgICAgICAgICAgICAgICAgJ24vYSd9IC0gYCkpOwogICAgY29uc3QgcGVyY2VudCA9IHNwYW4oJzAlIGRvbmUnKTsKICAgIGxpLmFwcGVuZENoaWxkKHBlcmNlbnQpOwoKICAgIG91dHB1dEVsZW1lbnQuYXBwZW5kQ2hpbGQobGkpOwoKICAgIGNvbnN0IGZpbGVEYXRhUHJvbWlzZSA9IG5ldyBQcm9taXNlKChyZXNvbHZlKSA9PiB7CiAgICAgIGNvbnN0IHJlYWRlciA9IG5ldyBGaWxlUmVhZGVyKCk7CiAgICAgIHJlYWRlci5vbmxvYWQgPSAoZSkgPT4gewogICAgICAgIHJlc29sdmUoZS50YXJnZXQucmVzdWx0KTsKICAgICAgfTsKICAgICAgcmVhZGVyLnJlYWRBc0FycmF5QnVmZmVyKGZpbGUpOwogICAgfSk7CiAgICAvLyBXYWl0IGZvciB0aGUgZGF0YSB0byBiZSByZWFkeS4KICAgIGxldCBmaWxlRGF0YSA9IHlpZWxkIHsKICAgICAgcHJvbWlzZTogZmlsZURhdGFQcm9taXNlLAogICAgICByZXNwb25zZTogewogICAgICAgIGFjdGlvbjogJ2NvbnRpbnVlJywKICAgICAgfQogICAgfTsKCiAgICAvLyBVc2UgYSBjaHVua2VkIHNlbmRpbmcgdG8gYXZvaWQgbWVzc2FnZSBzaXplIGxpbWl0cy4gU2VlIGIvNjIxMTU2NjAuCiAgICBsZXQgcG9zaXRpb24gPSAwOwogICAgd2hpbGUgKHBvc2l0aW9uIDwgZmlsZURhdGEuYnl0ZUxlbmd0aCkgewogICAgICBjb25zdCBsZW5ndGggPSBNYXRoLm1pbihmaWxlRGF0YS5ieXRlTGVuZ3RoIC0gcG9zaXRpb24sIE1BWF9QQVlMT0FEX1NJWkUpOwogICAgICBjb25zdCBjaHVuayA9IG5ldyBVaW50OEFycmF5KGZpbGVEYXRhLCBwb3NpdGlvbiwgbGVuZ3RoKTsKICAgICAgcG9zaXRpb24gKz0gbGVuZ3RoOwoKICAgICAgY29uc3QgYmFzZTY0ID0gYnRvYShTdHJpbmcuZnJvbUNoYXJDb2RlLmFwcGx5KG51bGwsIGNodW5rKSk7CiAgICAgIHlpZWxkIHsKICAgICAgICByZXNwb25zZTogewogICAgICAgICAgYWN0aW9uOiAnYXBwZW5kJywKICAgICAgICAgIGZpbGU6IGZpbGUubmFtZSwKICAgICAgICAgIGRhdGE6IGJhc2U2NCwKICAgICAgICB9LAogICAgICB9OwogICAgICBwZXJjZW50LnRleHRDb250ZW50ID0KICAgICAgICAgIGAke01hdGgucm91bmQoKHBvc2l0aW9uIC8gZmlsZURhdGEuYnl0ZUxlbmd0aCkgKiAxMDApfSUgZG9uZWA7CiAgICB9CiAgfQoKICAvLyBBbGwgZG9uZS4KICB5aWVsZCB7CiAgICByZXNwb25zZTogewogICAgICBhY3Rpb246ICdjb21wbGV0ZScsCiAgICB9CiAgfTsKfQoKc2NvcGUuZ29vZ2xlID0gc2NvcGUuZ29vZ2xlIHx8IHt9OwpzY29wZS5nb29nbGUuY29sYWIgPSBzY29wZS5nb29nbGUuY29sYWIgfHwge307CnNjb3BlLmdvb2dsZS5jb2xhYi5fZmlsZXMgPSB7CiAgX3VwbG9hZEZpbGVzLAogIF91cGxvYWRGaWxlc0NvbnRpbnVlLAp9Owp9KShzZWxmKTsK",
       "headers": [
        [
         "content-type",
         "application/javascript"
        ]
       ],
       "ok": true,
       "status": 200,
       "status_text": ""
      }
     }
    },
    "id": "XmH2FwC082oC",
    "outputId": "e1f09922-a34b-4b15-9025-163e7ca421c7"
   },
   "outputs": [
    {
     "data": {
      "text/html": [
       "\n",
       "     <input type=\"file\" id=\"files-c1c94923-e09e-4693-95ac-29ef53917ff2\" name=\"files[]\" multiple disabled\n",
       "        style=\"border:none\" />\n",
       "     <output id=\"result-c1c94923-e09e-4693-95ac-29ef53917ff2\">\n",
       "      Upload widget is only available when the cell has been executed in the\n",
       "      current browser session. Please rerun this cell to enable.\n",
       "      </output>\n",
       "      <script src=\"/nbextensions/google.colab/files.js\"></script> "
      ],
      "text/plain": [
       "<IPython.core.display.HTML object>"
      ]
     },
     "metadata": {
      "tags": []
     },
     "output_type": "display_data"
    },
    {
     "name": "stdout",
     "output_type": "stream",
     "text": [
      "Saving Bank_Churn.csv to Bank_Churn.csv\n"
     ]
    }
   ],
   "source": [
    "from google.colab import files\n",
    "uploaded = files.upload()"
   ]
  },
  {
   "cell_type": "markdown",
   "metadata": {
    "id": "0NRJmIlCmkF3"
   },
   "source": [
    "## Data Preprocessing\n",
    "\n",
    "### After reading the data and investigating, I found this data has no null values and shape is 14 variables with 10000 instances. Except Gender Geography and surnames all variables are numeric. although variables are numeric but further investigation and understanding explains there are many categorical variables. To get the unique values of these categorical variables, I ran codes and got the below results."
   ]
  },
  {
   "cell_type": "code",
   "execution_count": 125,
   "metadata": {
    "colab": {
     "base_uri": "https://localhost:8080/",
     "height": 222
    },
    "id": "zKuPGmzI825S",
    "outputId": "81f2d3e2-aeea-49c1-8621-71ed4b9efcd3"
   },
   "outputs": [
    {
     "data": {
      "text/html": [
       "<div>\n",
       "<style scoped>\n",
       "    .dataframe tbody tr th:only-of-type {\n",
       "        vertical-align: middle;\n",
       "    }\n",
       "\n",
       "    .dataframe tbody tr th {\n",
       "        vertical-align: top;\n",
       "    }\n",
       "\n",
       "    .dataframe thead th {\n",
       "        text-align: right;\n",
       "    }\n",
       "</style>\n",
       "<table border=\"1\" class=\"dataframe\">\n",
       "  <thead>\n",
       "    <tr style=\"text-align: right;\">\n",
       "      <th></th>\n",
       "      <th>RowNumber</th>\n",
       "      <th>CustomerId</th>\n",
       "      <th>Surname</th>\n",
       "      <th>CreditScore</th>\n",
       "      <th>Geography</th>\n",
       "      <th>Gender</th>\n",
       "      <th>Age</th>\n",
       "      <th>Tenure</th>\n",
       "      <th>Balance</th>\n",
       "      <th>NumOfProducts</th>\n",
       "      <th>HasCrCard</th>\n",
       "      <th>IsActiveMember</th>\n",
       "      <th>EstimatedSalary</th>\n",
       "      <th>Exited</th>\n",
       "    </tr>\n",
       "  </thead>\n",
       "  <tbody>\n",
       "    <tr>\n",
       "      <th>0</th>\n",
       "      <td>1</td>\n",
       "      <td>15634602</td>\n",
       "      <td>Hargrave</td>\n",
       "      <td>619</td>\n",
       "      <td>France</td>\n",
       "      <td>Female</td>\n",
       "      <td>42</td>\n",
       "      <td>2</td>\n",
       "      <td>0.00</td>\n",
       "      <td>1</td>\n",
       "      <td>1</td>\n",
       "      <td>1</td>\n",
       "      <td>101348.88</td>\n",
       "      <td>1</td>\n",
       "    </tr>\n",
       "    <tr>\n",
       "      <th>1</th>\n",
       "      <td>2</td>\n",
       "      <td>15647311</td>\n",
       "      <td>Hill</td>\n",
       "      <td>608</td>\n",
       "      <td>Spain</td>\n",
       "      <td>Female</td>\n",
       "      <td>41</td>\n",
       "      <td>1</td>\n",
       "      <td>83807.86</td>\n",
       "      <td>1</td>\n",
       "      <td>0</td>\n",
       "      <td>1</td>\n",
       "      <td>112542.58</td>\n",
       "      <td>0</td>\n",
       "    </tr>\n",
       "    <tr>\n",
       "      <th>2</th>\n",
       "      <td>3</td>\n",
       "      <td>15619304</td>\n",
       "      <td>Onio</td>\n",
       "      <td>502</td>\n",
       "      <td>France</td>\n",
       "      <td>Female</td>\n",
       "      <td>42</td>\n",
       "      <td>8</td>\n",
       "      <td>159660.80</td>\n",
       "      <td>3</td>\n",
       "      <td>1</td>\n",
       "      <td>0</td>\n",
       "      <td>113931.57</td>\n",
       "      <td>1</td>\n",
       "    </tr>\n",
       "    <tr>\n",
       "      <th>3</th>\n",
       "      <td>4</td>\n",
       "      <td>15701354</td>\n",
       "      <td>Boni</td>\n",
       "      <td>699</td>\n",
       "      <td>France</td>\n",
       "      <td>Female</td>\n",
       "      <td>39</td>\n",
       "      <td>1</td>\n",
       "      <td>0.00</td>\n",
       "      <td>2</td>\n",
       "      <td>0</td>\n",
       "      <td>0</td>\n",
       "      <td>93826.63</td>\n",
       "      <td>0</td>\n",
       "    </tr>\n",
       "    <tr>\n",
       "      <th>4</th>\n",
       "      <td>5</td>\n",
       "      <td>15737888</td>\n",
       "      <td>Mitchell</td>\n",
       "      <td>850</td>\n",
       "      <td>Spain</td>\n",
       "      <td>Female</td>\n",
       "      <td>43</td>\n",
       "      <td>2</td>\n",
       "      <td>125510.82</td>\n",
       "      <td>1</td>\n",
       "      <td>1</td>\n",
       "      <td>1</td>\n",
       "      <td>79084.10</td>\n",
       "      <td>0</td>\n",
       "    </tr>\n",
       "  </tbody>\n",
       "</table>\n",
       "</div>"
      ],
      "text/plain": [
       "   RowNumber  CustomerId   Surname  ...  IsActiveMember EstimatedSalary Exited\n",
       "0          1    15634602  Hargrave  ...               1       101348.88      1\n",
       "1          2    15647311      Hill  ...               1       112542.58      0\n",
       "2          3    15619304      Onio  ...               0       113931.57      1\n",
       "3          4    15701354      Boni  ...               0        93826.63      0\n",
       "4          5    15737888  Mitchell  ...               1        79084.10      0\n",
       "\n",
       "[5 rows x 14 columns]"
      ]
     },
     "execution_count": 125,
     "metadata": {
      "tags": []
     },
     "output_type": "execute_result"
    }
   ],
   "source": [
    "import pandas as pd \n",
    "import io \n",
    "  \n",
    "df = pd.read_csv(io.BytesIO(uploaded['Bank_Churn.csv'])) \n",
    "df.head()\n"
   ]
  },
  {
   "cell_type": "code",
   "execution_count": null,
   "metadata": {
    "colab": {
     "base_uri": "https://localhost:8080/",
     "height": 309
    },
    "id": "KedcXNGz82_z",
    "outputId": "32792a09-0481-4b6e-e068-c9c8707b12ff"
   },
   "outputs": [
    {
     "name": "stdout",
     "output_type": "stream",
     "text": [
      "(10000, 14)\n"
     ]
    },
    {
     "data": {
      "text/html": [
       "<div>\n",
       "<style scoped>\n",
       "    .dataframe tbody tr th:only-of-type {\n",
       "        vertical-align: middle;\n",
       "    }\n",
       "\n",
       "    .dataframe tbody tr th {\n",
       "        vertical-align: top;\n",
       "    }\n",
       "\n",
       "    .dataframe thead th {\n",
       "        text-align: right;\n",
       "    }\n",
       "</style>\n",
       "<table border=\"1\" class=\"dataframe\">\n",
       "  <thead>\n",
       "    <tr style=\"text-align: right;\">\n",
       "      <th></th>\n",
       "      <th>RowNumber</th>\n",
       "      <th>CustomerId</th>\n",
       "      <th>CreditScore</th>\n",
       "      <th>Age</th>\n",
       "      <th>Tenure</th>\n",
       "      <th>Balance</th>\n",
       "      <th>NumOfProducts</th>\n",
       "      <th>HasCrCard</th>\n",
       "      <th>IsActiveMember</th>\n",
       "      <th>EstimatedSalary</th>\n",
       "      <th>Exited</th>\n",
       "    </tr>\n",
       "  </thead>\n",
       "  <tbody>\n",
       "    <tr>\n",
       "      <th>count</th>\n",
       "      <td>10000.00000</td>\n",
       "      <td>1.000000e+04</td>\n",
       "      <td>10000.000000</td>\n",
       "      <td>10000.000000</td>\n",
       "      <td>10000.000000</td>\n",
       "      <td>10000.000000</td>\n",
       "      <td>10000.000000</td>\n",
       "      <td>10000.00000</td>\n",
       "      <td>10000.000000</td>\n",
       "      <td>10000.000000</td>\n",
       "      <td>10000.000000</td>\n",
       "    </tr>\n",
       "    <tr>\n",
       "      <th>mean</th>\n",
       "      <td>5000.50000</td>\n",
       "      <td>1.569094e+07</td>\n",
       "      <td>650.528800</td>\n",
       "      <td>38.921800</td>\n",
       "      <td>5.012800</td>\n",
       "      <td>76485.889288</td>\n",
       "      <td>1.530200</td>\n",
       "      <td>0.70550</td>\n",
       "      <td>0.515100</td>\n",
       "      <td>100090.239881</td>\n",
       "      <td>0.203700</td>\n",
       "    </tr>\n",
       "    <tr>\n",
       "      <th>std</th>\n",
       "      <td>2886.89568</td>\n",
       "      <td>7.193619e+04</td>\n",
       "      <td>96.653299</td>\n",
       "      <td>10.487806</td>\n",
       "      <td>2.892174</td>\n",
       "      <td>62397.405202</td>\n",
       "      <td>0.581654</td>\n",
       "      <td>0.45584</td>\n",
       "      <td>0.499797</td>\n",
       "      <td>57510.492818</td>\n",
       "      <td>0.402769</td>\n",
       "    </tr>\n",
       "    <tr>\n",
       "      <th>min</th>\n",
       "      <td>1.00000</td>\n",
       "      <td>1.556570e+07</td>\n",
       "      <td>350.000000</td>\n",
       "      <td>18.000000</td>\n",
       "      <td>0.000000</td>\n",
       "      <td>0.000000</td>\n",
       "      <td>1.000000</td>\n",
       "      <td>0.00000</td>\n",
       "      <td>0.000000</td>\n",
       "      <td>11.580000</td>\n",
       "      <td>0.000000</td>\n",
       "    </tr>\n",
       "    <tr>\n",
       "      <th>25%</th>\n",
       "      <td>2500.75000</td>\n",
       "      <td>1.562853e+07</td>\n",
       "      <td>584.000000</td>\n",
       "      <td>32.000000</td>\n",
       "      <td>3.000000</td>\n",
       "      <td>0.000000</td>\n",
       "      <td>1.000000</td>\n",
       "      <td>0.00000</td>\n",
       "      <td>0.000000</td>\n",
       "      <td>51002.110000</td>\n",
       "      <td>0.000000</td>\n",
       "    </tr>\n",
       "    <tr>\n",
       "      <th>50%</th>\n",
       "      <td>5000.50000</td>\n",
       "      <td>1.569074e+07</td>\n",
       "      <td>652.000000</td>\n",
       "      <td>37.000000</td>\n",
       "      <td>5.000000</td>\n",
       "      <td>97198.540000</td>\n",
       "      <td>1.000000</td>\n",
       "      <td>1.00000</td>\n",
       "      <td>1.000000</td>\n",
       "      <td>100193.915000</td>\n",
       "      <td>0.000000</td>\n",
       "    </tr>\n",
       "    <tr>\n",
       "      <th>75%</th>\n",
       "      <td>7500.25000</td>\n",
       "      <td>1.575323e+07</td>\n",
       "      <td>718.000000</td>\n",
       "      <td>44.000000</td>\n",
       "      <td>7.000000</td>\n",
       "      <td>127644.240000</td>\n",
       "      <td>2.000000</td>\n",
       "      <td>1.00000</td>\n",
       "      <td>1.000000</td>\n",
       "      <td>149388.247500</td>\n",
       "      <td>0.000000</td>\n",
       "    </tr>\n",
       "    <tr>\n",
       "      <th>max</th>\n",
       "      <td>10000.00000</td>\n",
       "      <td>1.581569e+07</td>\n",
       "      <td>850.000000</td>\n",
       "      <td>92.000000</td>\n",
       "      <td>10.000000</td>\n",
       "      <td>250898.090000</td>\n",
       "      <td>4.000000</td>\n",
       "      <td>1.00000</td>\n",
       "      <td>1.000000</td>\n",
       "      <td>199992.480000</td>\n",
       "      <td>1.000000</td>\n",
       "    </tr>\n",
       "  </tbody>\n",
       "</table>\n",
       "</div>"
      ],
      "text/plain": [
       "         RowNumber    CustomerId  ...  EstimatedSalary        Exited\n",
       "count  10000.00000  1.000000e+04  ...     10000.000000  10000.000000\n",
       "mean    5000.50000  1.569094e+07  ...    100090.239881      0.203700\n",
       "std     2886.89568  7.193619e+04  ...     57510.492818      0.402769\n",
       "min        1.00000  1.556570e+07  ...        11.580000      0.000000\n",
       "25%     2500.75000  1.562853e+07  ...     51002.110000      0.000000\n",
       "50%     5000.50000  1.569074e+07  ...    100193.915000      0.000000\n",
       "75%     7500.25000  1.575323e+07  ...    149388.247500      0.000000\n",
       "max    10000.00000  1.581569e+07  ...    199992.480000      1.000000\n",
       "\n",
       "[8 rows x 11 columns]"
      ]
     },
     "execution_count": 7,
     "metadata": {
      "tags": []
     },
     "output_type": "execute_result"
    }
   ],
   "source": [
    "print(df.shape)\n",
    "df.describe()"
   ]
  },
  {
   "cell_type": "code",
   "execution_count": null,
   "metadata": {
    "colab": {
     "base_uri": "https://localhost:8080/",
     "height": 284
    },
    "id": "5bGTdCtzACmk",
    "outputId": "88eaff69-81e8-4f27-d7d0-2dd943b59049"
   },
   "outputs": [
    {
     "data": {
      "text/plain": [
       "RowNumber          0\n",
       "CustomerId         0\n",
       "Surname            0\n",
       "CreditScore        0\n",
       "Geography          0\n",
       "Gender             0\n",
       "Age                0\n",
       "Tenure             0\n",
       "Balance            0\n",
       "NumOfProducts      0\n",
       "HasCrCard          0\n",
       "IsActiveMember     0\n",
       "EstimatedSalary    0\n",
       "Exited             0\n",
       "dtype: int64"
      ]
     },
     "execution_count": 9,
     "metadata": {
      "tags": []
     },
     "output_type": "execute_result"
    }
   ],
   "source": [
    "df.isna().sum()"
   ]
  },
  {
   "cell_type": "code",
   "execution_count": null,
   "metadata": {
    "colab": {
     "base_uri": "https://localhost:8080/",
     "height": 390
    },
    "id": "4dgPwcHXACqn",
    "outputId": "2cbe1a26-85fc-4fe8-f7dd-9bb239df56bd"
   },
   "outputs": [
    {
     "name": "stdout",
     "output_type": "stream",
     "text": [
      "<class 'pandas.core.frame.DataFrame'>\n",
      "RangeIndex: 10000 entries, 0 to 9999\n",
      "Data columns (total 14 columns):\n",
      " #   Column           Non-Null Count  Dtype  \n",
      "---  ------           --------------  -----  \n",
      " 0   RowNumber        10000 non-null  int64  \n",
      " 1   CustomerId       10000 non-null  int64  \n",
      " 2   Surname          10000 non-null  object \n",
      " 3   CreditScore      10000 non-null  int64  \n",
      " 4   Geography        10000 non-null  object \n",
      " 5   Gender           10000 non-null  object \n",
      " 6   Age              10000 non-null  int64  \n",
      " 7   Tenure           10000 non-null  int64  \n",
      " 8   Balance          10000 non-null  float64\n",
      " 9   NumOfProducts    10000 non-null  int64  \n",
      " 10  HasCrCard        10000 non-null  int64  \n",
      " 11  IsActiveMember   10000 non-null  int64  \n",
      " 12  EstimatedSalary  10000 non-null  float64\n",
      " 13  Exited           10000 non-null  int64  \n",
      "dtypes: float64(2), int64(9), object(3)\n",
      "memory usage: 1.1+ MB\n"
     ]
    }
   ],
   "source": [
    "df.info()"
   ]
  },
  {
   "cell_type": "code",
   "execution_count": null,
   "metadata": {
    "colab": {
     "base_uri": "https://localhost:8080/",
     "height": 124
    },
    "id": "CPP6JYv6ACxG",
    "outputId": "10a18745-6869-4183-d2d7-78424dd86bea"
   },
   "outputs": [
    {
     "name": "stdout",
     "output_type": "stream",
     "text": [
      "['France' 'Spain' 'Germany']\n",
      "['Female' 'Male']\n",
      "[ 2  1  8  7  4  6  3 10  5  9  0]\n",
      "[1 3 2 4]\n",
      "[1 0]\n",
      "[1 0]\n"
     ]
    }
   ],
   "source": [
    "for col in cat_var:\n",
    "  print(df[col].unique())"
   ]
  },
  {
   "cell_type": "code",
   "execution_count": 5,
   "metadata": {
    "id": "1R9MEZ-2ACtv"
   },
   "outputs": [],
   "source": [
    "cat_var=df[[\"Geography\", \"Gender\", \"Tenure\", \"NumOfProducts\", \"HasCrCard\", \"IsActiveMember\"]]\n",
    "cont=df[[\"CreditScore\", \"Age\", \"Balance\", \"EstimatedSalary\"]]"
   ]
  },
  {
   "cell_type": "code",
   "execution_count": null,
   "metadata": {
    "colab": {
     "base_uri": "https://localhost:8080/",
     "height": 230
    },
    "id": "rFQ7jp4auZia",
    "outputId": "88ff4e6c-015a-453f-ff5c-6cc8488d54b4"
   },
   "outputs": [
    {
     "name": "stdout",
     "output_type": "stream",
     "text": [
      "<class 'pandas.core.frame.DataFrame'>\n",
      "RangeIndex: 10000 entries, 0 to 9999\n",
      "Data columns (total 3 columns):\n",
      " #   Column          Non-Null Count  Dtype \n",
      "---  ------          --------------  ----- \n",
      " 0   Gender          10000 non-null  object\n",
      " 1   HasCrCard       10000 non-null  object\n",
      " 2   IsActiveMember  10000 non-null  object\n",
      "dtypes: object(3)\n",
      "memory usage: 234.5+ KB\n",
      "350\n",
      "850\n"
     ]
    }
   ],
   "source": [
    "m.info()\n",
    "print(df.CreditScore.min())\n",
    "print(df.CreditScore.max())"
   ]
  },
  {
   "cell_type": "markdown",
   "metadata": {
    "id": "H5QHH2fDqJTM"
   },
   "source": [
    "## Exploratory Data Analysis\n",
    "\n",
    "### Before going further, I categorized credit score as below and made a new variable 'Credit_ScoreGroup'. For understanding the multicollinearity between variables, I used heatmap for numeric variables and found there is no multicollinearity.\n"
   ]
  },
  {
   "cell_type": "code",
   "execution_count": 126,
   "metadata": {
    "id": "wP6Ir9HnfuKC"
   },
   "outputs": [],
   "source": [
    "category=pd.cut(df.CreditScore,bins=[300,500, 600,700,780,850],labels=[\"Very Poor\", \"Poor\", \"Fair\", \"Good\", \"Excellent\"])\n",
    "df.insert(5,'Credit_ScoreGroup',category)"
   ]
  },
  {
   "cell_type": "markdown",
   "metadata": {
    "id": "WFD5549JGEdH"
   },
   "source": []
  },
  {
   "cell_type": "code",
   "execution_count": null,
   "metadata": {
    "colab": {
     "base_uri": "https://localhost:8080/",
     "height": 460
    },
    "id": "4aRugEghAC08",
    "outputId": "af7cd0a2-f7db-4a5d-e686-6c095cbf9716"
   },
   "outputs": [
    {
     "data": {
      "image/png": "[encoded data removed]",
      "text/plain": [
       "<Figure size 648x720 with 2 Axes>"
      ]
     },
     "metadata": {
      "needs_background": "light",
      "tags": []
     },
     "output_type": "display_data"
    }
   ],
   "source": [
    "corr = cont.corr() # correlations\n",
    "plt.figure(figsize=(9, 10))\n",
    "sns.heatmap(corr, center=0,\n",
    "            square=True, linewidths=.5, cbar_kws={\"shrink\": .5});"
   ]
  },
  {
   "cell_type": "markdown",
   "metadata": {
    "id": "QcgIQzi5Dmun"
   },
   "source": []
  },
  {
   "cell_type": "markdown",
   "metadata": {
    "id": "Rkkhc-2aoLCj"
   },
   "source": [
    "### In below, histogram plot of various continuous variable we can see that these are not normally distributed. \n"
   ]
  },
  {
   "cell_type": "code",
   "execution_count": 124,
   "metadata": {
    "colab": {
     "base_uri": "https://localhost:8080/",
     "height": 598
    },
    "id": "RY_N208dohhA",
    "outputId": "3c644456-9da2-4c5f-8948-ffa027446840"
   },
   "outputs": [
    {
     "name": "stderr",
     "output_type": "stream",
     "text": [
      "/usr/local/lib/python3.6/dist-packages/ipykernel_launcher.py:3: UserWarning: To output multiple subplots, the figure containing the passed axes is being cleared\n",
      "  This is separate from the ipykernel package so we can avoid doing imports until\n"
     ]
    },
    {
     "data": {
      "image/png": "[encoded data removed]",
      "text/plain": [
       "<Figure size 864x576 with 4 Axes>"
      ]
     },
     "metadata": {
      "tags": []
     },
     "output_type": "display_data"
    }
   ],
   "source": [
    "fig = plt.figure(figsize = (12,8))\n",
    "ax = fig.gca()\n",
    "cont.hist(ax=ax, color='g')\n",
    "\n",
    "fig.suptitle(\"Histogram Plots for all Numeric Variables\")\n",
    "plt.show();"
   ]
  },
  {
   "cell_type": "code",
   "execution_count": null,
   "metadata": {
    "id": "CEU1Lbz_DqdU"
   },
   "outputs": [],
   "source": []
  },
  {
   "cell_type": "code",
   "execution_count": null,
   "metadata": {
    "id": "LYTdRObXDqOA"
   },
   "outputs": [],
   "source": []
  },
  {
   "cell_type": "markdown",
   "metadata": {
    "id": "1bRzCK_WphKi"
   },
   "source": [
    "### As our dependent variable is categorical 'Exited' with 0 means not exited and 1 means exited. Below I got plots for different categorical variables with differentiation from exited or not exited. In geography variable, France has many accounts than Spain and Germany. Female exited more that Male although they have less number of accounts. Likewise, not active members exited more than active members. It's interesting to see that bank has many customers with fair credit score whereas the customers with product 1 has exited most.\n"
   ]
  },
  {
   "cell_type": "code",
   "execution_count": 129,
   "metadata": {
    "colab": {
     "base_uri": "https://localhost:8080/",
     "height": 911
    },
    "id": "FjUHlM_ifd5-",
    "outputId": "6c65e3d4-5ecc-4050-f5f5-4da8835cca94"
   },
   "outputs": [
    {
     "data": {
      "text/plain": [
       "Text(0.5, 0.98, 'Frequency Distribution of Different Categorical Variable')"
      ]
     },
     "execution_count": 129,
     "metadata": {
      "tags": []
     },
     "output_type": "execute_result"
    },
    {
     "data": {
      "image/png": "[encoded data removed]",
      "text/plain": [
       "<Figure size 1360x960 with 6 Axes>"
      ]
     },
     "metadata": {
      "tags": []
     },
     "output_type": "display_data"
    }
   ],
   "source": [
    "import itertools\n",
    "fig, axarr = plt.subplots(3, 2, figsize=(17,12), dpi=80, facecolor='w', edgecolor='k')\n",
    "sns.set(style=\"white\")\n",
    "sns.countplot(x='Geography', hue = 'Exited',data = df, ax=axarr[0][0], palette=\"Accent_r\")\n",
    "axarr[0][0].set_title('Distribution of Geography')\n",
    "sns.countplot(x='Gender', hue = 'Exited',data = df, ax=axarr[0][1], palette=\"Accent_r\")\n",
    "axarr[0][1].set_title('Distribution of Gender where 0 is female')\n",
    "sns.countplot(x='HasCrCard', hue = 'Exited',data = df, ax=axarr[1][0], palette=\"Accent_r\")\n",
    "axarr[1][0].set_title('Distribution of Has Credit Card')\n",
    "sns.countplot(x='IsActiveMember', hue = 'Exited',data = df, ax=axarr[1][1], palette=\"Accent_r\")\n",
    "axarr[1][1].set_title('Distribution of Active Members')\n",
    "sns.countplot(x='Credit_ScoreGroup', hue = 'Exited',data = df, ax=axarr[2][0], palette=\"Accent_r\")\n",
    "axarr[2][0].set_title('Distribution of Credit Score(grouped)')\n",
    "sns.countplot(x='NumOfProducts', hue='Exited', data=df, ax=axarr[2][1], palette=\"Accent_r\")\n",
    "axarr[2][1].set_title('Distribution of Number of Products')\n",
    "fig.suptitle('Frequency Distribution of Different Categorical Variable', fontsize=16)"
   ]
  },
  {
   "cell_type": "code",
   "execution_count": null,
   "metadata": {
    "id": "gmuSElyUDshc"
   },
   "outputs": [],
   "source": []
  },
  {
   "cell_type": "code",
   "execution_count": null,
   "metadata": {
    "id": "Poiggl4YDtIz"
   },
   "outputs": [],
   "source": []
  },
  {
   "cell_type": "markdown",
   "metadata": {
    "id": "CnyiagUJrVLS"
   },
   "source": [
    "### Below is the box plot for continuous variables, I normalized these variables in different dataframe to better understand the boxplot. I didn't remove any outlier as I found that these outliers showing older population and excellent score customers, so thought to keep for further analysis.\n"
   ]
  },
  {
   "cell_type": "code",
   "execution_count": null,
   "metadata": {
    "colab": {
     "base_uri": "https://localhost:8080/",
     "height": 521
    },
    "id": "V4xxhRWAPaJ3",
    "outputId": "ffe4d15f-2b83-4a9e-e014-a3468dfdff84"
   },
   "outputs": [
    {
     "data": {
      "image/png": "[encoded data removed]",
      "text/plain": [
       "<Figure size 864x576 with 1 Axes>"
      ]
     },
     "metadata": {
      "tags": []
     },
     "output_type": "display_data"
    }
   ],
   "source": [
    "import numpy as np\n",
    "column_mean = cont. mean()\n",
    "column_std=cont.std()\n",
    "normalized_df = np.abs((cont-column_mean) / (column_std))\n",
    "normalized_df.head(5)\n",
    "green_diamond = dict(markerfacecolor='g', marker='D')\n",
    "boxplot2 = normalized_df.boxplot(figsize=(12,8), grid=False, flierprops=green_diamond, color='blue')\n",
    "plt.title('Outliers of Variables', fontsize=18);"
   ]
  },
  {
   "cell_type": "markdown",
   "metadata": {
    "id": "-eua-TJHsJ7E"
   },
   "source": [
    "### To categorize in numeric the categorical variable that were of dtype object, I used below codes. I also checked dtypes after this and now except Surname all are numeric.\n"
   ]
  },
  {
   "cell_type": "code",
   "execution_count": 7,
   "metadata": {
    "id": "TY9vH59mTHWh"
   },
   "outputs": [],
   "source": [
    "df.Gender=df.Gender.astype(\"category\").cat.codes\n",
    "df.Geography=df.Geography.astype(\"category\").cat.codes\n",
    "#df.Credit_ScoreGroup=df.Credit_ScoreGroup.astype(\"category\").cat.codes#"
   ]
  },
  {
   "cell_type": "code",
   "execution_count": 8,
   "metadata": {
    "colab": {
     "base_uri": "https://localhost:8080/",
     "height": 399
    },
    "id": "NWnGld-JPaRi",
    "outputId": "0d1d039c-8479-4b86-8c57-b592d02ee215"
   },
   "outputs": [
    {
     "name": "stdout",
     "output_type": "stream",
     "text": [
      "<class 'pandas.core.frame.DataFrame'>\n",
      "RangeIndex: 10000 entries, 0 to 9999\n",
      "Data columns (total 15 columns):\n",
      " #   Column             Non-Null Count  Dtype  \n",
      "---  ------             --------------  -----  \n",
      " 0   RowNumber          10000 non-null  int64  \n",
      " 1   CustomerId         10000 non-null  int64  \n",
      " 2   Surname            10000 non-null  object \n",
      " 3   CreditScore        10000 non-null  int64  \n",
      " 4   Geography          10000 non-null  int8   \n",
      " 5   Credit_ScoreGroup  10000 non-null  int8   \n",
      " 6   Gender             10000 non-null  int8   \n",
      " 7   Age                10000 non-null  int64  \n",
      " 8   Tenure             10000 non-null  int64  \n",
      " 9   Balance            10000 non-null  float64\n",
      " 10  NumOfProducts      10000 non-null  int64  \n",
      " 11  HasCrCard          10000 non-null  int64  \n",
      " 12  IsActiveMember     10000 non-null  int64  \n",
      " 13  EstimatedSalary    10000 non-null  float64\n",
      " 14  Exited             10000 non-null  int64  \n",
      "dtypes: float64(2), int64(9), int8(3), object(1)\n",
      "memory usage: 966.9+ KB\n"
     ]
    }
   ],
   "source": [
    "df.info()"
   ]
  },
  {
   "cell_type": "code",
   "execution_count": 9,
   "metadata": {
    "colab": {
     "base_uri": "https://localhost:8080/",
     "height": 381
    },
    "id": "24mrGLApPaUO",
    "outputId": "15a3ef2b-c3f6-4968-a2b7-1f4dda233d50"
   },
   "outputs": [
    {
     "name": "stdout",
     "output_type": "stream",
     "text": [
      "<class 'pandas.core.frame.DataFrame'>\n",
      "RangeIndex: 10000 entries, 0 to 9999\n",
      "Data columns (total 14 columns):\n",
      " #   Column           Non-Null Count  Dtype  \n",
      "---  ------           --------------  -----  \n",
      " 0   RowNumber        10000 non-null  int64  \n",
      " 1   CustomerId       10000 non-null  int64  \n",
      " 2   Surname          10000 non-null  object \n",
      " 3   CreditScore      10000 non-null  int64  \n",
      " 4   Geography        10000 non-null  int8   \n",
      " 5   Gender           10000 non-null  int8   \n",
      " 6   Age              10000 non-null  int64  \n",
      " 7   Tenure           10000 non-null  int64  \n",
      " 8   Balance          10000 non-null  float64\n",
      " 9   NumOfProducts    10000 non-null  int64  \n",
      " 10  HasCrCard        10000 non-null  int64  \n",
      " 11  IsActiveMember   10000 non-null  int64  \n",
      " 12  EstimatedSalary  10000 non-null  float64\n",
      " 13  Exited           10000 non-null  int64  \n",
      "dtypes: float64(2), int64(9), int8(2), object(1)\n",
      "memory usage: 957.2+ KB\n"
     ]
    }
   ],
   "source": [
    "df1=df.drop(['Credit_ScoreGroup'], axis=1)\n",
    "df1.info()"
   ]
  },
  {
   "cell_type": "markdown",
   "metadata": {
    "id": "odX6p-YLtUSa"
   },
   "source": [
    "### I divided the independent and dependent variables in X and y. After this using columntransfer I only used OneHotEncoder for Geography variable. As other categorical variables are either just have 0 and 1 values or the variables are ordinal.\n"
   ]
  },
  {
   "cell_type": "code",
   "execution_count": 10,
   "metadata": {
    "id": "tGPqs2nePaWx"
   },
   "outputs": [],
   "source": [
    "X=df1.iloc[:,3:13].values\n",
    "y=df1.iloc[:,-1].values"
   ]
  },
  {
   "cell_type": "code",
   "execution_count": 12,
   "metadata": {
    "id": "c1D-UbcLRl0U"
   },
   "outputs": [],
   "source": [
    "from sklearn.compose import ColumnTransformer\n",
    "from sklearn.preprocessing import OneHotEncoder\n",
    "from sklearn.preprocessing import OrdinalEncoder\n",
    "import numpy as np\n",
    "c = ColumnTransformer(transformers=[('encoder', OneHotEncoder(), [1])], remainder='passthrough')\n",
    "X=np.array(c.fit_transform(X))\n"
   ]
  },
  {
   "cell_type": "code",
   "execution_count": null,
   "metadata": {
    "id": "kcwPnsbJPaZi"
   },
   "outputs": [],
   "source": [
    "import sys\n",
    "import numpy\n",
    "#numpy.set_printoptions(threshold=sys.maxsize)\n",
    "#print(X)"
   ]
  },
  {
   "cell_type": "markdown",
   "metadata": {
    "id": "2LVjRhhPt7n5"
   },
   "source": [
    "### After splitting the data in training and test data set, I used minmaxscaler in ordinal and continuous variable as below. "
   ]
  },
  {
   "cell_type": "code",
   "execution_count": 13,
   "metadata": {
    "id": "3VuaYHCsc7Zc"
   },
   "outputs": [],
   "source": [
    "from sklearn.model_selection import train_test_split\n",
    "X_train, X_test, y_train, y_test=train_test_split(X, y, test_size=0.25, random_state=0)"
   ]
  },
  {
   "cell_type": "code",
   "execution_count": 14,
   "metadata": {
    "id": "Q-OB_gl2eJOJ"
   },
   "outputs": [],
   "source": [
    "from sklearn.preprocessing import MinMaxScaler\n",
    "c = ColumnTransformer(transformers=[('num', MinMaxScaler(), [3,5,6,7,8,11])], remainder='passthrough')\n",
    "    \n",
    "X_train=np.array(c.fit_transform(X_train))\n",
    "X_test=np.array(c.fit_transform(X_test))"
   ]
  },
  {
   "cell_type": "markdown",
   "metadata": {
    "id": "71LqMSnQumj0"
   },
   "source": [
    "## Neural Networking\n",
    "\n",
    "### Here I used neural networking for the classification purpose. I used below libraries. Sequential groups a linear stack of layers into a model. In the first model, I used two hidden layers and ReLU activation function whereas for output layer I used sigmoid as I am doing binomial classification. For optimizer, I used adam as adam optimization is a stochastic gradient descent method that is based on adaptive estimation of first-order and second-order moments. The cross-entropy computes the cross-entropy loss between true labels and predicted labels. The batch size is a number of samples processed before the model is updated. The number of epochs is the number of complete passes through the training dataset. The size of a batch must be more than or equal to one and less than or equal to the number of samples in the training dataset. Although model converged very quickly still I started with 100 epochs and in different models reduced it further. After changing hyperparameters(including different activation function and optimization algorithm), different models were made. Although accuracy is almost same in all the models.\n"
   ]
  },
  {
   "cell_type": "code",
   "execution_count": null,
   "metadata": {
    "id": "mdrFQvnMc8e_"
   },
   "outputs": [],
   "source": [
    "import keras\n",
    "from keras.models import Sequential\n",
    "from keras.layers import Dense, LeakyReLU, PReLU, ELU, Dropout\n",
    "import tensorflow as tf\n"
   ]
  },
  {
   "cell_type": "code",
   "execution_count": null,
   "metadata": {
    "id": "J8xtQYNWc8mz"
   },
   "outputs": [],
   "source": [
    "ann = Sequential()\n",
    "ann.add(Dense(units=8, input_dim=12, activation='relu'))\n",
    "ann.add(Dense(units=8, activation='relu'))\n",
    "ann.add(Dense(units=1, activation='sigmoid'))"
   ]
  },
  {
   "cell_type": "code",
   "execution_count": null,
   "metadata": {
    "id": "-GskLoCQsJvD"
   },
   "outputs": [],
   "source": [
    " \n",
    "ann.compile(optimizer = 'adam', loss='binary_crossentropy', metrics='accuracy')"
   ]
  },
  {
   "cell_type": "code",
   "execution_count": null,
   "metadata": {
    "colab": {
     "base_uri": "https://localhost:8080/",
     "height": 1000
    },
    "id": "h1L2umG8c828",
    "outputId": "c73b5ef7-c3c6-41c6-d0a3-89d2b36c80d4"
   },
   "outputs": [
    {
     "name": "stdout",
     "output_type": "stream",
     "text": [
      "Epoch 1/100\n",
      "750/750 [==============================] - 1s 802us/step - loss: 0.5121 - accuracy: 0.7881\n",
      "Epoch 2/100\n",
      "750/750 [==============================] - 1s 843us/step - loss: 0.4788 - accuracy: 0.7963\n",
      "Epoch 3/100\n",
      "750/750 [==============================] - 1s 831us/step - loss: 0.4667 - accuracy: 0.7963\n",
      "Epoch 4/100\n",
      "750/750 [==============================] - 1s 823us/step - loss: 0.4568 - accuracy: 0.7975\n",
      "Epoch 5/100\n",
      "750/750 [==============================] - 1s 816us/step - loss: 0.4430 - accuracy: 0.8071\n",
      "Epoch 6/100\n",
      "750/750 [==============================] - 1s 820us/step - loss: 0.4316 - accuracy: 0.8133\n",
      "Epoch 7/100\n",
      "750/750 [==============================] - 1s 816us/step - loss: 0.4259 - accuracy: 0.8165\n",
      "Epoch 8/100\n",
      "750/750 [==============================] - 1s 803us/step - loss: 0.4222 - accuracy: 0.8188\n",
      "Epoch 9/100\n",
      "750/750 [==============================] - 1s 827us/step - loss: 0.4173 - accuracy: 0.8240\n",
      "Epoch 10/100\n",
      "750/750 [==============================] - 1s 823us/step - loss: 0.4149 - accuracy: 0.8237\n",
      "Epoch 11/100\n",
      "750/750 [==============================] - 1s 805us/step - loss: 0.4112 - accuracy: 0.8276\n",
      "Epoch 12/100\n",
      "750/750 [==============================] - 1s 901us/step - loss: 0.4093 - accuracy: 0.8307\n",
      "Epoch 13/100\n",
      "750/750 [==============================] - 1s 834us/step - loss: 0.4070 - accuracy: 0.8304\n",
      "Epoch 14/100\n",
      "750/750 [==============================] - 1s 793us/step - loss: 0.4041 - accuracy: 0.8343\n",
      "Epoch 15/100\n",
      "750/750 [==============================] - 1s 815us/step - loss: 0.3995 - accuracy: 0.8321\n",
      "Epoch 16/100\n",
      "750/750 [==============================] - 1s 798us/step - loss: 0.3968 - accuracy: 0.8364\n",
      "Epoch 17/100\n",
      "750/750 [==============================] - 1s 802us/step - loss: 0.3917 - accuracy: 0.8392\n",
      "Epoch 18/100\n",
      "750/750 [==============================] - 1s 850us/step - loss: 0.3828 - accuracy: 0.8405\n",
      "Epoch 19/100\n",
      "750/750 [==============================] - 1s 829us/step - loss: 0.3733 - accuracy: 0.8495\n",
      "Epoch 20/100\n",
      "750/750 [==============================] - 1s 797us/step - loss: 0.3660 - accuracy: 0.8527\n",
      "Epoch 21/100\n",
      "750/750 [==============================] - 1s 822us/step - loss: 0.3600 - accuracy: 0.8539\n",
      "Epoch 22/100\n",
      "750/750 [==============================] - 1s 813us/step - loss: 0.3566 - accuracy: 0.8567\n",
      "Epoch 23/100\n",
      "750/750 [==============================] - 1s 805us/step - loss: 0.3544 - accuracy: 0.8576\n",
      "Epoch 24/100\n",
      "750/750 [==============================] - 1s 795us/step - loss: 0.3525 - accuracy: 0.8577\n",
      "Epoch 25/100\n",
      "750/750 [==============================] - 1s 863us/step - loss: 0.3508 - accuracy: 0.8557\n",
      "Epoch 26/100\n",
      "750/750 [==============================] - 1s 841us/step - loss: 0.3496 - accuracy: 0.8576\n",
      "Epoch 27/100\n",
      "750/750 [==============================] - 1s 789us/step - loss: 0.3486 - accuracy: 0.8581\n",
      "Epoch 28/100\n",
      "750/750 [==============================] - 1s 798us/step - loss: 0.3478 - accuracy: 0.8585\n",
      "Epoch 29/100\n",
      "750/750 [==============================] - 1s 820us/step - loss: 0.3467 - accuracy: 0.8597\n",
      "Epoch 30/100\n",
      "750/750 [==============================] - 1s 801us/step - loss: 0.3463 - accuracy: 0.8595\n",
      "Epoch 31/100\n",
      "750/750 [==============================] - 1s 823us/step - loss: 0.3457 - accuracy: 0.8573\n",
      "Epoch 32/100\n",
      "750/750 [==============================] - 1s 847us/step - loss: 0.3443 - accuracy: 0.8603\n",
      "Epoch 33/100\n",
      "750/750 [==============================] - 1s 829us/step - loss: 0.3441 - accuracy: 0.8607\n",
      "Epoch 34/100\n",
      "750/750 [==============================] - 1s 827us/step - loss: 0.3438 - accuracy: 0.8600\n",
      "Epoch 35/100\n",
      "750/750 [==============================] - 1s 831us/step - loss: 0.3435 - accuracy: 0.8615\n",
      "Epoch 36/100\n",
      "750/750 [==============================] - 1s 807us/step - loss: 0.3426 - accuracy: 0.8595\n",
      "Epoch 37/100\n",
      "750/750 [==============================] - 1s 808us/step - loss: 0.3422 - accuracy: 0.8617\n",
      "Epoch 38/100\n",
      "750/750 [==============================] - 1s 819us/step - loss: 0.3418 - accuracy: 0.8605\n",
      "Epoch 39/100\n",
      "750/750 [==============================] - 1s 847us/step - loss: 0.3411 - accuracy: 0.8597\n",
      "Epoch 40/100\n",
      "750/750 [==============================] - 1s 798us/step - loss: 0.3410 - accuracy: 0.8600\n",
      "Epoch 41/100\n",
      "750/750 [==============================] - 1s 819us/step - loss: 0.3406 - accuracy: 0.8600\n",
      "Epoch 42/100\n",
      "750/750 [==============================] - 1s 791us/step - loss: 0.3395 - accuracy: 0.8628\n",
      "Epoch 43/100\n",
      "750/750 [==============================] - 1s 825us/step - loss: 0.3396 - accuracy: 0.8605\n",
      "Epoch 44/100\n",
      "750/750 [==============================] - 1s 842us/step - loss: 0.3393 - accuracy: 0.8605\n",
      "Epoch 45/100\n",
      "750/750 [==============================] - 1s 847us/step - loss: 0.3398 - accuracy: 0.8612\n",
      "Epoch 46/100\n",
      "750/750 [==============================] - 1s 860us/step - loss: 0.3399 - accuracy: 0.8621\n",
      "Epoch 47/100\n",
      "750/750 [==============================] - 1s 833us/step - loss: 0.3396 - accuracy: 0.8623\n",
      "Epoch 48/100\n",
      "750/750 [==============================] - 1s 822us/step - loss: 0.3392 - accuracy: 0.8609\n",
      "Epoch 49/100\n",
      "750/750 [==============================] - 1s 860us/step - loss: 0.3389 - accuracy: 0.8597\n",
      "Epoch 50/100\n",
      "750/750 [==============================] - 1s 809us/step - loss: 0.3380 - accuracy: 0.8604\n",
      "Epoch 51/100\n",
      "750/750 [==============================] - 1s 841us/step - loss: 0.3387 - accuracy: 0.8623\n",
      "Epoch 52/100\n",
      "750/750 [==============================] - 1s 899us/step - loss: 0.3379 - accuracy: 0.8603\n",
      "Epoch 53/100\n",
      "750/750 [==============================] - 1s 792us/step - loss: 0.3376 - accuracy: 0.8627\n",
      "Epoch 54/100\n",
      "750/750 [==============================] - 1s 822us/step - loss: 0.3386 - accuracy: 0.8627\n",
      "Epoch 55/100\n",
      "750/750 [==============================] - 1s 831us/step - loss: 0.3378 - accuracy: 0.8608\n",
      "Epoch 56/100\n",
      "750/750 [==============================] - 1s 789us/step - loss: 0.3377 - accuracy: 0.8612\n",
      "Epoch 57/100\n",
      "750/750 [==============================] - 1s 853us/step - loss: 0.3372 - accuracy: 0.8631\n",
      "Epoch 58/100\n",
      "750/750 [==============================] - 1s 802us/step - loss: 0.3381 - accuracy: 0.8619\n",
      "Epoch 59/100\n",
      "750/750 [==============================] - 1s 849us/step - loss: 0.3361 - accuracy: 0.8620\n",
      "Epoch 60/100\n",
      "750/750 [==============================] - 1s 836us/step - loss: 0.3374 - accuracy: 0.8629\n",
      "Epoch 61/100\n",
      "750/750 [==============================] - 1s 820us/step - loss: 0.3363 - accuracy: 0.8623\n",
      "Epoch 62/100\n",
      "750/750 [==============================] - 1s 832us/step - loss: 0.3374 - accuracy: 0.8617\n",
      "Epoch 63/100\n",
      "750/750 [==============================] - 1s 818us/step - loss: 0.3365 - accuracy: 0.8635\n",
      "Epoch 64/100\n",
      "750/750 [==============================] - 1s 848us/step - loss: 0.3358 - accuracy: 0.8620\n",
      "Epoch 65/100\n",
      "750/750 [==============================] - 1s 801us/step - loss: 0.3351 - accuracy: 0.8632\n",
      "Epoch 66/100\n",
      "750/750 [==============================] - 1s 788us/step - loss: 0.3354 - accuracy: 0.8631\n",
      "Epoch 67/100\n",
      "750/750 [==============================] - 1s 823us/step - loss: 0.3359 - accuracy: 0.8633\n",
      "Epoch 68/100\n",
      "750/750 [==============================] - 1s 866us/step - loss: 0.3355 - accuracy: 0.8648\n",
      "Epoch 69/100\n",
      "750/750 [==============================] - 1s 807us/step - loss: 0.3352 - accuracy: 0.8633\n",
      "Epoch 70/100\n",
      "750/750 [==============================] - 1s 828us/step - loss: 0.3356 - accuracy: 0.8633\n",
      "Epoch 71/100\n",
      "750/750 [==============================] - 1s 811us/step - loss: 0.3353 - accuracy: 0.8631\n",
      "Epoch 72/100\n",
      "750/750 [==============================] - 1s 857us/step - loss: 0.3341 - accuracy: 0.8639\n",
      "Epoch 73/100\n",
      "750/750 [==============================] - 1s 826us/step - loss: 0.3352 - accuracy: 0.8599\n",
      "Epoch 74/100\n",
      "750/750 [==============================] - 1s 829us/step - loss: 0.3346 - accuracy: 0.8640\n",
      "Epoch 75/100\n",
      "750/750 [==============================] - 1s 825us/step - loss: 0.3337 - accuracy: 0.8639\n",
      "Epoch 76/100\n",
      "750/750 [==============================] - 1s 852us/step - loss: 0.3353 - accuracy: 0.8627\n",
      "Epoch 77/100\n",
      "750/750 [==============================] - 1s 875us/step - loss: 0.3336 - accuracy: 0.8639\n",
      "Epoch 78/100\n",
      "750/750 [==============================] - 1s 819us/step - loss: 0.3341 - accuracy: 0.8611\n",
      "Epoch 79/100\n",
      "750/750 [==============================] - 1s 802us/step - loss: 0.3342 - accuracy: 0.8625\n",
      "Epoch 80/100\n",
      "750/750 [==============================] - 1s 834us/step - loss: 0.3333 - accuracy: 0.8641\n",
      "Epoch 81/100\n",
      "750/750 [==============================] - 1s 832us/step - loss: 0.3345 - accuracy: 0.8659\n",
      "Epoch 82/100\n",
      "750/750 [==============================] - 1s 829us/step - loss: 0.3328 - accuracy: 0.8649\n",
      "Epoch 83/100\n",
      "750/750 [==============================] - 1s 832us/step - loss: 0.3341 - accuracy: 0.8620\n",
      "Epoch 84/100\n",
      "750/750 [==============================] - 1s 848us/step - loss: 0.3323 - accuracy: 0.8643\n",
      "Epoch 85/100\n",
      "750/750 [==============================] - 1s 845us/step - loss: 0.3335 - accuracy: 0.8633\n",
      "Epoch 86/100\n",
      "750/750 [==============================] - 1s 862us/step - loss: 0.3331 - accuracy: 0.8643\n",
      "Epoch 87/100\n",
      "750/750 [==============================] - 1s 826us/step - loss: 0.3330 - accuracy: 0.8640\n",
      "Epoch 88/100\n",
      "750/750 [==============================] - 1s 795us/step - loss: 0.3329 - accuracy: 0.8625\n",
      "Epoch 89/100\n",
      "750/750 [==============================] - 1s 842us/step - loss: 0.3324 - accuracy: 0.8649\n",
      "Epoch 90/100\n",
      "750/750 [==============================] - 1s 826us/step - loss: 0.3323 - accuracy: 0.8651\n",
      "Epoch 91/100\n",
      "750/750 [==============================] - 1s 822us/step - loss: 0.3333 - accuracy: 0.8659\n",
      "Epoch 92/100\n",
      "750/750 [==============================] - 1s 836us/step - loss: 0.3331 - accuracy: 0.8628\n",
      "Epoch 93/100\n",
      "750/750 [==============================] - 1s 816us/step - loss: 0.3322 - accuracy: 0.8635\n",
      "Epoch 94/100\n",
      "750/750 [==============================] - 1s 844us/step - loss: 0.3317 - accuracy: 0.8653\n",
      "Epoch 95/100\n",
      "750/750 [==============================] - 1s 804us/step - loss: 0.3321 - accuracy: 0.8643\n",
      "Epoch 96/100\n",
      "750/750 [==============================] - 1s 831us/step - loss: 0.3317 - accuracy: 0.8644\n",
      "Epoch 97/100\n",
      "750/750 [==============================] - 1s 832us/step - loss: 0.3323 - accuracy: 0.8644\n",
      "Epoch 98/100\n",
      "750/750 [==============================] - 1s 822us/step - loss: 0.3312 - accuracy: 0.8644\n",
      "Epoch 99/100\n",
      "750/750 [==============================] - 1s 805us/step - loss: 0.3312 - accuracy: 0.8639\n",
      "Epoch 100/100\n",
      "750/750 [==============================] - 1s 821us/step - loss: 0.3316 - accuracy: 0.8649\n"
     ]
    }
   ],
   "source": [
    "an=ann.fit(X_train, y_train, batch_size=10, epochs=100)"
   ]
  },
  {
   "cell_type": "markdown",
   "metadata": {
    "id": "Bg5rAAx7E4jN"
   },
   "source": [
    "## Second Model\n",
    "### Changed the optimizer to SGD."
   ]
  },
  {
   "cell_type": "code",
   "execution_count": null,
   "metadata": {
    "id": "4fI2kaS-ssXq"
   },
   "outputs": [],
   "source": [
    "ann.compile(optimizer = 'SGD', loss='mse', metrics='accuracy')"
   ]
  },
  {
   "cell_type": "code",
   "execution_count": null,
   "metadata": {
    "colab": {
     "base_uri": "https://localhost:8080/",
     "height": 711
    },
    "id": "S-wHFJ2Kc87y",
    "outputId": "ffab9a29-cfdb-4af1-f8f9-8d48987e8bd9"
   },
   "outputs": [
    {
     "name": "stdout",
     "output_type": "stream",
     "text": [
      "Epoch 1/20\n",
      "750/750 [==============================] - 1s 1ms/step - loss: 0.0993 - accuracy: 0.8703 - val_loss: 0.1025 - val_accuracy: 0.8588\n",
      "Epoch 2/20\n",
      "750/750 [==============================] - 1s 1ms/step - loss: 0.0992 - accuracy: 0.8701 - val_loss: 0.1033 - val_accuracy: 0.8588\n",
      "Epoch 3/20\n",
      "750/750 [==============================] - 1s 1ms/step - loss: 0.0992 - accuracy: 0.8687 - val_loss: 0.1036 - val_accuracy: 0.8568\n",
      "Epoch 4/20\n",
      "750/750 [==============================] - 1s 1ms/step - loss: 0.0993 - accuracy: 0.8683 - val_loss: 0.1046 - val_accuracy: 0.8608\n",
      "Epoch 5/20\n",
      "750/750 [==============================] - 1s 1ms/step - loss: 0.0991 - accuracy: 0.8673 - val_loss: 0.1028 - val_accuracy: 0.8588\n",
      "Epoch 6/20\n",
      "750/750 [==============================] - 1s 1ms/step - loss: 0.0989 - accuracy: 0.8695 - val_loss: 0.1038 - val_accuracy: 0.8620\n",
      "Epoch 7/20\n",
      "750/750 [==============================] - 1s 1ms/step - loss: 0.0992 - accuracy: 0.8683 - val_loss: 0.1041 - val_accuracy: 0.8600\n",
      "Epoch 8/20\n",
      "750/750 [==============================] - 1s 1ms/step - loss: 0.0994 - accuracy: 0.8673 - val_loss: 0.1028 - val_accuracy: 0.8596\n",
      "Epoch 9/20\n",
      "750/750 [==============================] - 1s 1ms/step - loss: 0.0993 - accuracy: 0.8684 - val_loss: 0.1039 - val_accuracy: 0.8616\n",
      "Epoch 10/20\n",
      "750/750 [==============================] - 1s 1ms/step - loss: 0.0990 - accuracy: 0.8693 - val_loss: 0.1058 - val_accuracy: 0.8572\n",
      "Epoch 11/20\n",
      "750/750 [==============================] - 1s 1ms/step - loss: 0.0992 - accuracy: 0.8693 - val_loss: 0.1044 - val_accuracy: 0.8608\n",
      "Epoch 12/20\n",
      "750/750 [==============================] - 1s 1ms/step - loss: 0.0991 - accuracy: 0.8685 - val_loss: 0.1025 - val_accuracy: 0.8628\n",
      "Epoch 13/20\n",
      "750/750 [==============================] - 1s 1ms/step - loss: 0.0993 - accuracy: 0.8675 - val_loss: 0.1038 - val_accuracy: 0.8612\n",
      "Epoch 14/20\n",
      "750/750 [==============================] - 1s 1ms/step - loss: 0.0994 - accuracy: 0.8672 - val_loss: 0.1032 - val_accuracy: 0.8592\n",
      "Epoch 15/20\n",
      "750/750 [==============================] - 1s 1ms/step - loss: 0.0993 - accuracy: 0.8687 - val_loss: 0.1036 - val_accuracy: 0.8604\n",
      "Epoch 16/20\n",
      "750/750 [==============================] - 1s 1ms/step - loss: 0.0990 - accuracy: 0.8696 - val_loss: 0.1038 - val_accuracy: 0.8592\n",
      "Epoch 17/20\n",
      "750/750 [==============================] - 1s 1ms/step - loss: 0.0992 - accuracy: 0.8692 - val_loss: 0.1034 - val_accuracy: 0.8604\n",
      "Epoch 18/20\n",
      "750/750 [==============================] - 1s 1ms/step - loss: 0.0991 - accuracy: 0.8697 - val_loss: 0.1041 - val_accuracy: 0.8596\n",
      "Epoch 19/20\n",
      "750/750 [==============================] - 1s 1ms/step - loss: 0.0993 - accuracy: 0.8684 - val_loss: 0.1031 - val_accuracy: 0.8596\n",
      "Epoch 20/20\n",
      "750/750 [==============================] - 1s 1ms/step - loss: 0.0992 - accuracy: 0.8699 - val_loss: 0.1025 - val_accuracy: 0.8604\n"
     ]
    }
   ],
   "source": [
    "an_gd=ann.fit(X_train, y_train, batch_size=10, epochs=20, validation_data=(X_test,y_test))"
   ]
  },
  {
   "cell_type": "markdown",
   "metadata": {
    "id": "JlhZY0q_FIMF"
   },
   "source": [
    "## Third Model\n",
    "\n",
    "\n"
   ]
  },
  {
   "cell_type": "code",
   "execution_count": null,
   "metadata": {
    "id": "s1V1v9iFc8_g"
   },
   "outputs": [],
   "source": [
    "sgd=tf.keras.optimizers.SGD(\n",
    "    learning_rate=0.1, momentum=0.0, nesterov=False, name='SGD')"
   ]
  },
  {
   "cell_type": "code",
   "execution_count": null,
   "metadata": {
    "id": "cs4XP7GOPac7"
   },
   "outputs": [],
   "source": [
    "ann.compile(optimizer = 'sgd', loss='mse', metrics='accuracy')"
   ]
  },
  {
   "cell_type": "code",
   "execution_count": null,
   "metadata": {
    "colab": {
     "base_uri": "https://localhost:8080/",
     "height": 1000
    },
    "id": "zBSkacWMvFI9",
    "outputId": "1b52e9a6-f870-4697-8d9d-8e739663c25b"
   },
   "outputs": [
    {
     "name": "stdout",
     "output_type": "stream",
     "text": [
      "Epoch 1/50\n",
      "235/235 [==============================] - 0s 2ms/step - loss: 0.1011 - accuracy: 0.8659\n",
      "Epoch 2/50\n",
      "235/235 [==============================] - 0s 2ms/step - loss: 0.1011 - accuracy: 0.8675\n",
      "Epoch 3/50\n",
      "235/235 [==============================] - 0s 2ms/step - loss: 0.1010 - accuracy: 0.8676\n",
      "Epoch 4/50\n",
      "235/235 [==============================] - 0s 2ms/step - loss: 0.1010 - accuracy: 0.8672\n",
      "Epoch 5/50\n",
      "235/235 [==============================] - 0s 2ms/step - loss: 0.1011 - accuracy: 0.8656\n",
      "Epoch 6/50\n",
      "235/235 [==============================] - 0s 2ms/step - loss: 0.1010 - accuracy: 0.8665\n",
      "Epoch 7/50\n",
      "235/235 [==============================] - 0s 2ms/step - loss: 0.1011 - accuracy: 0.8661\n",
      "Epoch 8/50\n",
      "235/235 [==============================] - 0s 2ms/step - loss: 0.1009 - accuracy: 0.8665\n",
      "Epoch 9/50\n",
      "235/235 [==============================] - 0s 2ms/step - loss: 0.1011 - accuracy: 0.8663\n",
      "Epoch 10/50\n",
      "235/235 [==============================] - 0s 2ms/step - loss: 0.1010 - accuracy: 0.8668\n",
      "Epoch 11/50\n",
      "235/235 [==============================] - 0s 2ms/step - loss: 0.1009 - accuracy: 0.8669\n",
      "Epoch 12/50\n",
      "235/235 [==============================] - 0s 2ms/step - loss: 0.1010 - accuracy: 0.8660\n",
      "Epoch 13/50\n",
      "235/235 [==============================] - 0s 2ms/step - loss: 0.1008 - accuracy: 0.8672\n",
      "Epoch 14/50\n",
      "235/235 [==============================] - 0s 2ms/step - loss: 0.1010 - accuracy: 0.8652\n",
      "Epoch 15/50\n",
      "235/235 [==============================] - 0s 2ms/step - loss: 0.1011 - accuracy: 0.8647\n",
      "Epoch 16/50\n",
      "235/235 [==============================] - 0s 2ms/step - loss: 0.1011 - accuracy: 0.8671\n",
      "Epoch 17/50\n",
      "235/235 [==============================] - 0s 2ms/step - loss: 0.1010 - accuracy: 0.8680\n",
      "Epoch 18/50\n",
      "235/235 [==============================] - 0s 2ms/step - loss: 0.1010 - accuracy: 0.8669\n",
      "Epoch 19/50\n",
      "235/235 [==============================] - 0s 2ms/step - loss: 0.1011 - accuracy: 0.8653\n",
      "Epoch 20/50\n",
      "235/235 [==============================] - 0s 2ms/step - loss: 0.1011 - accuracy: 0.8664\n",
      "Epoch 21/50\n",
      "235/235 [==============================] - 0s 2ms/step - loss: 0.1010 - accuracy: 0.8665\n",
      "Epoch 22/50\n",
      "235/235 [==============================] - 0s 2ms/step - loss: 0.1010 - accuracy: 0.8669\n",
      "Epoch 23/50\n",
      "235/235 [==============================] - 0s 2ms/step - loss: 0.1008 - accuracy: 0.8663\n",
      "Epoch 24/50\n",
      "235/235 [==============================] - 0s 2ms/step - loss: 0.1010 - accuracy: 0.8680\n",
      "Epoch 25/50\n",
      "235/235 [==============================] - 0s 2ms/step - loss: 0.1011 - accuracy: 0.8684\n",
      "Epoch 26/50\n",
      "235/235 [==============================] - 0s 2ms/step - loss: 0.1010 - accuracy: 0.8668\n",
      "Epoch 27/50\n",
      "235/235 [==============================] - 0s 2ms/step - loss: 0.1010 - accuracy: 0.8679\n",
      "Epoch 28/50\n",
      "235/235 [==============================] - 0s 2ms/step - loss: 0.1010 - accuracy: 0.8676\n",
      "Epoch 29/50\n",
      "235/235 [==============================] - 0s 2ms/step - loss: 0.1010 - accuracy: 0.8659\n",
      "Epoch 30/50\n",
      "235/235 [==============================] - 0s 2ms/step - loss: 0.1009 - accuracy: 0.8683\n",
      "Epoch 31/50\n",
      "235/235 [==============================] - 0s 2ms/step - loss: 0.1011 - accuracy: 0.8669\n",
      "Epoch 32/50\n",
      "235/235 [==============================] - 0s 2ms/step - loss: 0.1010 - accuracy: 0.8673\n",
      "Epoch 33/50\n",
      "235/235 [==============================] - 0s 2ms/step - loss: 0.1010 - accuracy: 0.8644\n",
      "Epoch 34/50\n",
      "235/235 [==============================] - 0s 2ms/step - loss: 0.1011 - accuracy: 0.8651\n",
      "Epoch 35/50\n",
      "235/235 [==============================] - 0s 2ms/step - loss: 0.1009 - accuracy: 0.8675\n",
      "Epoch 36/50\n",
      "235/235 [==============================] - 0s 2ms/step - loss: 0.1010 - accuracy: 0.8672\n",
      "Epoch 37/50\n",
      "235/235 [==============================] - 0s 2ms/step - loss: 0.1010 - accuracy: 0.8665\n",
      "Epoch 38/50\n",
      "235/235 [==============================] - 0s 2ms/step - loss: 0.1010 - accuracy: 0.8663\n",
      "Epoch 39/50\n",
      "235/235 [==============================] - 0s 2ms/step - loss: 0.1011 - accuracy: 0.8663\n",
      "Epoch 40/50\n",
      "235/235 [==============================] - 0s 2ms/step - loss: 0.1009 - accuracy: 0.8659\n",
      "Epoch 41/50\n",
      "235/235 [==============================] - 0s 2ms/step - loss: 0.1010 - accuracy: 0.8668\n",
      "Epoch 42/50\n",
      "235/235 [==============================] - 0s 2ms/step - loss: 0.1008 - accuracy: 0.8660\n",
      "Epoch 43/50\n",
      "235/235 [==============================] - 0s 2ms/step - loss: 0.1009 - accuracy: 0.8669\n",
      "Epoch 44/50\n",
      "235/235 [==============================] - 0s 2ms/step - loss: 0.1008 - accuracy: 0.8665\n",
      "Epoch 45/50\n",
      "235/235 [==============================] - 0s 2ms/step - loss: 0.1011 - accuracy: 0.8676\n",
      "Epoch 46/50\n",
      "235/235 [==============================] - 0s 2ms/step - loss: 0.1010 - accuracy: 0.8668\n",
      "Epoch 47/50\n",
      "235/235 [==============================] - 0s 2ms/step - loss: 0.1010 - accuracy: 0.8675\n",
      "Epoch 48/50\n",
      "235/235 [==============================] - 0s 2ms/step - loss: 0.1007 - accuracy: 0.8645\n",
      "Epoch 49/50\n",
      "235/235 [==============================] - 0s 2ms/step - loss: 0.1010 - accuracy: 0.8660\n",
      "Epoch 50/50\n",
      "235/235 [==============================] - 0s 2ms/step - loss: 0.1010 - accuracy: 0.8667\n"
     ]
    }
   ],
   "source": [
    "ann_g=ann.fit(X_train, y_train, batch_size=32, epochs=50)"
   ]
  },
  {
   "cell_type": "code",
   "execution_count": null,
   "metadata": {
    "colab": {
     "base_uri": "https://localhost:8080/",
     "height": 35
    },
    "id": "0JDGCZgKzaj-",
    "outputId": "7e67ba58-6445-40d5-a2bf-c6d424627e39"
   },
   "outputs": [
    {
     "data": {
      "text/plain": [
       "{'epochs': 50, 'steps': 235, 'verbose': 1}"
      ]
     },
     "execution_count": 213,
     "metadata": {
      "tags": []
     },
     "output_type": "execute_result"
    }
   ],
   "source": [
    "ann_g.params"
   ]
  },
  {
   "cell_type": "markdown",
   "metadata": {
    "id": "QT7orT9DFR3-"
   },
   "source": [
    "# Fourth Model"
   ]
  },
  {
   "cell_type": "code",
   "execution_count": null,
   "metadata": {
    "id": "nKr7ax4NwfU9"
   },
   "outputs": [],
   "source": [
    "ann_new = Sequential()\n",
    "ann_new.add(Dense(units=16, input_dim=12, activation='tanh'))\n",
    "ann_new.add(Dense(units=16, activation='relu'))\n",
    "ann_new.add(Dense(units=8, activation='relu'))\n",
    "ann_new.add(Dense(units=8, activation='relu'))\n",
    "ann_new.add(Dense(units=1, activation='sigmoid'))"
   ]
  },
  {
   "cell_type": "code",
   "execution_count": null,
   "metadata": {
    "id": "qzWO01tFwf-G"
   },
   "outputs": [],
   "source": [
    "ann_new.compile(optimizer = 'RMSprop', loss='mse', metrics='accuracy')"
   ]
  },
  {
   "cell_type": "code",
   "execution_count": null,
   "metadata": {
    "colab": {
     "base_uri": "https://localhost:8080/",
     "height": 1000
    },
    "id": "nYjzmOA1wgEv",
    "outputId": "f5d48413-0f4d-4842-c035-56920dfdf6fd"
   },
   "outputs": [
    {
     "name": "stdout",
     "output_type": "stream",
     "text": [
      "Epoch 1/30\n",
      "235/235 [==============================] - 0s 953us/step - loss: 0.1080 - accuracy: 0.8573\n",
      "Epoch 2/30\n",
      "235/235 [==============================] - 0s 911us/step - loss: 0.1071 - accuracy: 0.8597\n",
      "Epoch 3/30\n",
      "235/235 [==============================] - 0s 903us/step - loss: 0.1067 - accuracy: 0.8591\n",
      "Epoch 4/30\n",
      "235/235 [==============================] - 0s 1ms/step - loss: 0.1065 - accuracy: 0.8584\n",
      "Epoch 5/30\n",
      "235/235 [==============================] - 0s 931us/step - loss: 0.1069 - accuracy: 0.8565\n",
      "Epoch 6/30\n",
      "235/235 [==============================] - 0s 965us/step - loss: 0.1059 - accuracy: 0.8616\n",
      "Epoch 7/30\n",
      "235/235 [==============================] - 0s 1ms/step - loss: 0.1053 - accuracy: 0.8633\n",
      "Epoch 8/30\n",
      "235/235 [==============================] - 0s 956us/step - loss: 0.1051 - accuracy: 0.8600\n",
      "Epoch 9/30\n",
      "235/235 [==============================] - 0s 924us/step - loss: 0.1048 - accuracy: 0.8611\n",
      "Epoch 10/30\n",
      "235/235 [==============================] - 0s 950us/step - loss: 0.1044 - accuracy: 0.8620\n",
      "Epoch 11/30\n",
      "235/235 [==============================] - 0s 895us/step - loss: 0.1044 - accuracy: 0.8625\n",
      "Epoch 12/30\n",
      "235/235 [==============================] - 0s 930us/step - loss: 0.1042 - accuracy: 0.8632\n",
      "Epoch 13/30\n",
      "235/235 [==============================] - 0s 934us/step - loss: 0.1039 - accuracy: 0.8625\n",
      "Epoch 14/30\n",
      "235/235 [==============================] - 0s 966us/step - loss: 0.1039 - accuracy: 0.8653\n",
      "Epoch 15/30\n",
      "235/235 [==============================] - 0s 937us/step - loss: 0.1039 - accuracy: 0.8621\n",
      "Epoch 16/30\n",
      "235/235 [==============================] - 0s 909us/step - loss: 0.1039 - accuracy: 0.8641\n",
      "Epoch 17/30\n",
      "235/235 [==============================] - 0s 969us/step - loss: 0.1037 - accuracy: 0.8645\n",
      "Epoch 18/30\n",
      "235/235 [==============================] - 0s 999us/step - loss: 0.1034 - accuracy: 0.8637\n",
      "Epoch 19/30\n",
      "235/235 [==============================] - 0s 1ms/step - loss: 0.1034 - accuracy: 0.8632\n",
      "Epoch 20/30\n",
      "235/235 [==============================] - 0s 1ms/step - loss: 0.1036 - accuracy: 0.8639\n",
      "Epoch 21/30\n",
      "235/235 [==============================] - 0s 929us/step - loss: 0.1031 - accuracy: 0.8649\n",
      "Epoch 22/30\n",
      "235/235 [==============================] - 0s 982us/step - loss: 0.1029 - accuracy: 0.8637\n",
      "Epoch 23/30\n",
      "235/235 [==============================] - 0s 964us/step - loss: 0.1032 - accuracy: 0.8644\n",
      "Epoch 24/30\n",
      "235/235 [==============================] - 0s 984us/step - loss: 0.1027 - accuracy: 0.8635\n",
      "Epoch 25/30\n",
      "235/235 [==============================] - 0s 918us/step - loss: 0.1025 - accuracy: 0.8641\n",
      "Epoch 26/30\n",
      "235/235 [==============================] - 0s 873us/step - loss: 0.1025 - accuracy: 0.8649\n",
      "Epoch 27/30\n",
      "235/235 [==============================] - 0s 905us/step - loss: 0.1028 - accuracy: 0.8651\n",
      "Epoch 28/30\n",
      "235/235 [==============================] - 0s 944us/step - loss: 0.1025 - accuracy: 0.8644\n",
      "Epoch 29/30\n",
      "235/235 [==============================] - 0s 913us/step - loss: 0.1021 - accuracy: 0.8627\n",
      "Epoch 30/30\n",
      "235/235 [==============================] - 0s 920us/step - loss: 0.1024 - accuracy: 0.8645\n"
     ]
    }
   ],
   "source": [
    "ann_g1=ann_new.fit(X_train, y_train, batch_size=32, epochs=30)"
   ]
  },
  {
   "cell_type": "markdown",
   "metadata": {
    "id": "6Fx7UtpVFYpA"
   },
   "source": [
    "# Fifth Model"
   ]
  },
  {
   "cell_type": "code",
   "execution_count": null,
   "metadata": {
    "id": "yWnPY6qhwgJ_"
   },
   "outputs": [],
   "source": [
    "ann_new2 = Sequential()\n",
    "ann_new2.add(Dense(units=32, input_dim=12, activation= 'relu'))\n",
    "ann_new2.add(Dense(units=32, activation='relu'))\n",
    "ann_new2.add(Dense(units=1, activation='sigmoid'))"
   ]
  },
  {
   "cell_type": "code",
   "execution_count": null,
   "metadata": {
    "id": "kM33Q89PFaft"
   },
   "outputs": [],
   "source": []
  },
  {
   "cell_type": "code",
   "execution_count": null,
   "metadata": {
    "id": "29JGTe2BwgOQ"
   },
   "outputs": [],
   "source": [
    "ann_new2.compile(optimizer = 'rmsprop',loss='BinaryCrossentropy', metrics='accuracy')"
   ]
  },
  {
   "cell_type": "code",
   "execution_count": null,
   "metadata": {
    "colab": {
     "base_uri": "https://localhost:8080/",
     "height": 711
    },
    "id": "WDaIGBD0wgTr",
    "outputId": "b8257d02-4430-4580-9ca5-0f720c657d5b"
   },
   "outputs": [
    {
     "name": "stdout",
     "output_type": "stream",
     "text": [
      "Epoch 1/20\n",
      "118/118 [==============================] - 0s 989us/step - loss: 0.5034 - accuracy: 0.7896\n",
      "Epoch 2/20\n",
      "118/118 [==============================] - 0s 1ms/step - loss: 0.4682 - accuracy: 0.7968\n",
      "Epoch 3/20\n",
      "118/118 [==============================] - 0s 1ms/step - loss: 0.4557 - accuracy: 0.8017\n",
      "Epoch 4/20\n",
      "118/118 [==============================] - 0s 977us/step - loss: 0.4465 - accuracy: 0.8052\n",
      "Epoch 5/20\n",
      "118/118 [==============================] - 0s 945us/step - loss: 0.4385 - accuracy: 0.8075\n",
      "Epoch 6/20\n",
      "118/118 [==============================] - 0s 949us/step - loss: 0.4324 - accuracy: 0.8103\n",
      "Epoch 7/20\n",
      "118/118 [==============================] - 0s 906us/step - loss: 0.4270 - accuracy: 0.8123\n",
      "Epoch 8/20\n",
      "118/118 [==============================] - 0s 974us/step - loss: 0.4229 - accuracy: 0.8147\n",
      "Epoch 9/20\n",
      "118/118 [==============================] - 0s 956us/step - loss: 0.4174 - accuracy: 0.8211\n",
      "Epoch 10/20\n",
      "118/118 [==============================] - 0s 945us/step - loss: 0.4124 - accuracy: 0.8225\n",
      "Epoch 11/20\n",
      "118/118 [==============================] - 0s 968us/step - loss: 0.4059 - accuracy: 0.8264\n",
      "Epoch 12/20\n",
      "118/118 [==============================] - 0s 992us/step - loss: 0.3986 - accuracy: 0.8292\n",
      "Epoch 13/20\n",
      "118/118 [==============================] - 0s 1ms/step - loss: 0.3921 - accuracy: 0.8333\n",
      "Epoch 14/20\n",
      "118/118 [==============================] - 0s 969us/step - loss: 0.3830 - accuracy: 0.8395\n",
      "Epoch 15/20\n",
      "118/118 [==============================] - 0s 910us/step - loss: 0.3764 - accuracy: 0.8432\n",
      "Epoch 16/20\n",
      "118/118 [==============================] - 0s 1ms/step - loss: 0.3701 - accuracy: 0.8487\n",
      "Epoch 17/20\n",
      "118/118 [==============================] - 0s 982us/step - loss: 0.3646 - accuracy: 0.8501\n",
      "Epoch 18/20\n",
      "118/118 [==============================] - 0s 886us/step - loss: 0.3607 - accuracy: 0.8531\n",
      "Epoch 19/20\n",
      "118/118 [==============================] - 0s 920us/step - loss: 0.3569 - accuracy: 0.8543\n",
      "Epoch 20/20\n",
      "118/118 [==============================] - 0s 938us/step - loss: 0.3555 - accuracy: 0.8553\n"
     ]
    }
   ],
   "source": [
    "ann_g2=ann_new2.fit(X_train, y_train, batch_size=64, epochs=20)"
   ]
  },
  {
   "cell_type": "markdown",
   "metadata": {
    "id": "iZY9Mp3U2G9G"
   },
   "source": [
    "### Comaprison of different models. Taking accuracy in the account, I found from below values that second model is best. Again second model is best in loss too as it has the lowest loss. So for prediction, I am using second model. I used threshold of 0.5.\n"
   ]
  },
  {
   "cell_type": "code",
   "execution_count": null,
   "metadata": {
    "colab": {
     "base_uri": "https://localhost:8080/",
     "height": 104
    },
    "id": "NSCrW235wgdL",
    "outputId": "2deedb73-4068-40d3-96ec-290b3f92d0f0"
   },
   "outputs": [
    {
     "name": "stdout",
     "output_type": "stream",
     "text": [
      "0.8658666610717773\n",
      "0.8702666759490967\n",
      "0.8653333187103271\n",
      "0.8553333282470703\n",
      "0.8579999804496765\n"
     ]
    }
   ],
   "source": [
    "print(max(an.history['accuracy']))\n",
    "print(max(an_gd.history['accuracy']))\n",
    "print(max(ann_g1.history['accuracy']))\n",
    "print(max(ann_g2.history['accuracy']))\n",
    "print(max(ann_g.history['accuracy']))"
   ]
  },
  {
   "cell_type": "code",
   "execution_count": null,
   "metadata": {
    "colab": {
     "base_uri": "https://localhost:8080/",
     "height": 104
    },
    "id": "rv3vM19p6vcY",
    "outputId": "3b4fe249-b26f-4660-b27f-01250c04a299"
   },
   "outputs": [
    {
     "name": "stdout",
     "output_type": "stream",
     "text": [
      "0.33118972182273865\n",
      "0.09894544631242752\n",
      "0.10209757834672928\n",
      "0.35553380846977234\n",
      "0.10793804377317429\n"
     ]
    }
   ],
   "source": [
    "print(min(an.history['loss']))\n",
    "print(min(an_gd.history['loss']))\n",
    "print(min(ann_g1.history['loss']))\n",
    "print(min(ann_g2.history['loss']))\n",
    "print(min(ann_g.history['loss']))"
   ]
  },
  {
   "cell_type": "code",
   "execution_count": null,
   "metadata": {
    "id": "Z8HO7gg_gPtl"
   },
   "outputs": [],
   "source": [
    "y_pred=ann.predict(X_test)\n",
    "#y_pred=y_pred.round()\n",
    "THRESHOLD = 0.5\n",
    "preds = np.where(y_pred > THRESHOLD, 1, 0)"
   ]
  },
  {
   "cell_type": "code",
   "execution_count": null,
   "metadata": {
    "colab": {
     "base_uri": "https://localhost:8080/",
     "height": 35
    },
    "id": "l8Hza4KLHJ9y",
    "outputId": "0313260c-1a19-4ccb-8634-2657ee339b92"
   },
   "outputs": [
    {
     "data": {
      "text/plain": [
       "(array([False,  True]), array([2190,  310]))"
      ]
     },
     "execution_count": 225,
     "metadata": {
      "tags": []
     },
     "output_type": "execute_result"
    }
   ],
   "source": [
    "np.unique(y_pred, return_counts=True)"
   ]
  },
  {
   "cell_type": "code",
   "execution_count": null,
   "metadata": {
    "colab": {
     "base_uri": "https://localhost:8080/",
     "height": 35
    },
    "id": "ifGcDsAImHPK",
    "outputId": "188ea243-c154-4130-e8ef-3b2afb50685a"
   },
   "outputs": [
    {
     "name": "stdout",
     "output_type": "stream",
     "text": [
      "79/79 [==============================] - 0s 812us/step - loss: 0.1040 - accuracy: 0.8608\n"
     ]
    }
   ],
   "source": [
    "y_pred1=ann.evaluate(X_test, y_test)"
   ]
  },
  {
   "cell_type": "markdown",
   "metadata": {
    "id": "jfOJr5Mv28SW"
   },
   "source": [
    "### From the above model 2, I compared the train and test accuracy on different epochs. Although train and test has almost 0.86 accuracy still at epoch 10, test showing a peak in accuracy. Moreover in the below plot, I plotted loss and compared for train and test test has more loss than train but it is very very small. Confusion Matrix is also given below and specificity, Precision, Recall(Sensitivity), accuracy these values were also calculated. "
   ]
  },
  {
   "cell_type": "code",
   "execution_count": null,
   "metadata": {
    "colab": {
     "base_uri": "https://localhost:8080/",
     "height": 301
    },
    "id": "8a-uyMF8PBoY",
    "outputId": "e6c964d6-a41a-4c6b-8d16-5ea14ff2e496"
   },
   "outputs": [
    {
     "data": {
      "image/png": "[encoded data removed]",
      "text/plain": [
       "<Figure size 432x288 with 1 Axes>"
      ]
     },
     "metadata": {
      "tags": []
     },
     "output_type": "display_data"
    }
   ],
   "source": [
    "import matplotlib.pyplot as plt\n",
    "# summarize history for accuracy\n",
    "plt.plot(an_gd.history['accuracy'])\n",
    "plt.plot(an_gd.history['val_accuracy'])\n",
    "plt.title(\"model accuracy\")\n",
    "plt.ylabel('accuracy')\n",
    "\n",
    "plt.xlabel('epoch')\n",
    "plt.legend(['train', 'test'], loc='lower right')\n",
    "plt.show()\n",
    "\n"
   ]
  },
  {
   "cell_type": "code",
   "execution_count": null,
   "metadata": {
    "colab": {
     "base_uri": "https://localhost:8080/",
     "height": 301
    },
    "id": "1CZ_exoDoRVI",
    "outputId": "8528efc7-9115-4e86-b418-a718dab8ca9a"
   },
   "outputs": [
    {
     "data": {
      "image/png": "[encoded data removed]",
      "text/plain": [
       "<Figure size 432x288 with 1 Axes>"
      ]
     },
     "metadata": {
      "tags": []
     },
     "output_type": "display_data"
    }
   ],
   "source": [
    "plt.plot(an_gd.history['loss'])\n",
    "plt.plot(an_gd.history['val_loss'])\n",
    "plt.title(\"Model Loss\")\n",
    "plt.ylabel('Loss')\n",
    "\n",
    "plt.xlabel('epoch')\n",
    "plt.legend(['train', 'test'], loc='lower right')\n",
    "plt.show()"
   ]
  },
  {
   "cell_type": "code",
   "execution_count": null,
   "metadata": {
    "id": "WHObSlBm2Li4"
   },
   "outputs": [],
   "source": [
    "def plot_confusion_matrix(cm, classes,\n",
    "                        normalize=False,\n",
    "                        title='Confusion matrix',\n",
    "                        cmap=plt.cm.Blues):\n",
    "    \"\"\"\n",
    "    This function prints and plots the confusion matrix.\n",
    "    Normalization can be applied by setting `normalize=True`.\n",
    "    \"\"\"\n",
    "    plt.imshow(cm, interpolation='nearest', cmap=cmap)\n",
    "    plt.title(title)\n",
    "    plt.colorbar()\n",
    "    tick_marks = np.arange(len(classes))\n",
    "    plt.xticks(tick_marks, classes, rotation=45)\n",
    "    plt.yticks(tick_marks, classes)\n",
    "\n",
    "    if normalize:\n",
    "        cm = cm.astype('float') / cm.sum(axis=1)[:, np.newaxis]\n",
    "        print(\"Normalized confusion matrix\")\n",
    "    else:\n",
    "        print('Confusion matrix, without normalization')\n",
    "\n",
    "    print(cm)\n"
   ]
  },
  {
   "cell_type": "code",
   "execution_count": null,
   "metadata": {
    "colab": {
     "base_uri": "https://localhost:8080/",
     "height": 52
    },
    "id": "TEdGur2siS1z",
    "outputId": "4c2bdcc9-42d1-42b2-e671-fe8399b1fa69"
   },
   "outputs": [
    {
     "data": {
      "text/plain": [
       "array([[1939,   52],\n",
       "       [ 296,  213]])"
      ]
     },
     "execution_count": 127,
     "metadata": {
      "tags": []
     },
     "output_type": "execute_result"
    }
   ],
   "source": [
    "from sklearn.metrics import confusion_matrix\n",
    "cm_an=confusion_matrix(y_test, y_pred)\n",
    "cm_an"
   ]
  },
  {
   "cell_type": "code",
   "execution_count": null,
   "metadata": {
    "id": "hbzgb7o-1yS9"
   },
   "outputs": [],
   "source": [
    "cm_plot_labels = ['No_Churn','Churn']"
   ]
  },
  {
   "cell_type": "code",
   "execution_count": null,
   "metadata": {
    "colab": {
     "base_uri": "https://localhost:8080/",
     "height": 371
    },
    "id": "k4uvRt_kpriF",
    "outputId": "e275fd61-c3b9-4d53-e6f3-259606d338b3"
   },
   "outputs": [
    {
     "name": "stdout",
     "output_type": "stream",
     "text": [
      "Confusion matrix, without normalization\n",
      "[[1939   52]\n",
      " [ 296  213]]\n"
     ]
    },
    {
     "data": {
      "image/png": "[encoded data removed]",
      "text/plain": [
       "<Figure size 432x288 with 2 Axes>"
      ]
     },
     "metadata": {
      "tags": []
     },
     "output_type": "display_data"
    }
   ],
   "source": [
    "plot_confusion_matrix(cm=cm_an, classes=cm_plot_labels, title='Confusion Matrix')"
   ]
  },
  {
   "cell_type": "code",
   "execution_count": null,
   "metadata": {
    "colab": {
     "base_uri": "https://localhost:8080/",
     "height": 35
    },
    "id": "pZl9R9K_2vPz",
    "outputId": "0d7816e4-ff73-42eb-a83a-8ff38577575c"
   },
   "outputs": [
    {
     "name": "stdout",
     "output_type": "stream",
     "text": [
      "Neural network specificity, Precision, Recall(Sensitivity), accuracy are 0.9738824711200402 0.8037735849056604 0.41846758349705304 0.8608\n"
     ]
    }
   ],
   "source": [
    "accuracy=(1939+213)/(1939+213+296+52)\n",
    "tn, fp, fn, tp = confusion_matrix(y_test, y_pred).ravel()\n",
    "specificity = tn / (tn+fp)\n",
    "Precision = tp/(tp+fp)\n",
    "Recall = tp/(tp+fn)\n",
    "print(\"Neural network specificity, Precision, Recall(Sensitivity), accuracy are\", specificity, Precision, Recall, accuracy)"
   ]
  },
  {
   "cell_type": "code",
   "execution_count": null,
   "metadata": {
    "colab": {
     "base_uri": "https://localhost:8080/",
     "height": 280
    },
    "id": "DCdKFRz-BTLG",
    "outputId": "7fce0f32-0154-4d1c-e6d4-a9039440b114"
   },
   "outputs": [
    {
     "name": "stdout",
     "output_type": "stream",
     "text": [
      "Collecting scikit-plot\n",
      "  Downloading https://files.pythonhosted.org/packages/7c/47/32520e259340c140a4ad27c1b97050dd3254fdc517b1d59974d47037510e/scikit_plot-0.3.7-py3-none-any.whl\n",
      "Requirement already satisfied: joblib>=0.10 in /usr/local/lib/python3.6/dist-packages (from scikit-plot) (0.16.0)\n",
      "Requirement already satisfied: scipy>=0.9 in /usr/local/lib/python3.6/dist-packages (from scikit-plot) (1.4.1)\n",
      "Requirement already satisfied: matplotlib>=1.4.0 in /usr/local/lib/python3.6/dist-packages (from scikit-plot) (3.2.2)\n",
      "Requirement already satisfied: scikit-learn>=0.18 in /usr/local/lib/python3.6/dist-packages (from scikit-plot) (0.22.2.post1)\n",
      "Requirement already satisfied: numpy>=1.13.3 in /usr/local/lib/python3.6/dist-packages (from scipy>=0.9->scikit-plot) (1.18.5)\n",
      "Requirement already satisfied: cycler>=0.10 in /usr/local/lib/python3.6/dist-packages (from matplotlib>=1.4.0->scikit-plot) (0.10.0)\n",
      "Requirement already satisfied: kiwisolver>=1.0.1 in /usr/local/lib/python3.6/dist-packages (from matplotlib>=1.4.0->scikit-plot) (1.2.0)\n",
      "Requirement already satisfied: python-dateutil>=2.1 in /usr/local/lib/python3.6/dist-packages (from matplotlib>=1.4.0->scikit-plot) (2.8.1)\n",
      "Requirement already satisfied: pyparsing!=2.0.4,!=2.1.2,!=2.1.6,>=2.0.1 in /usr/local/lib/python3.6/dist-packages (from matplotlib>=1.4.0->scikit-plot) (2.4.7)\n",
      "Requirement already satisfied: six in /usr/local/lib/python3.6/dist-packages (from cycler>=0.10->matplotlib>=1.4.0->scikit-plot) (1.15.0)\n",
      "Installing collected packages: scikit-plot\n",
      "Successfully installed scikit-plot-0.3.7\n"
     ]
    }
   ],
   "source": [
    "pip install scikit-plot"
   ]
  },
  {
   "cell_type": "code",
   "execution_count": null,
   "metadata": {
    "colab": {
     "base_uri": "https://localhost:8080/",
     "height": 52
    },
    "id": "C3dolTSFMFhJ",
    "outputId": "fe552252-4938-4639-8ef0-1e1926004356"
   },
   "outputs": [
    {
     "data": {
      "text/plain": [
       "array([[0.3744051 , 0.2945549 , 0.09190118, ..., 0.21029225, 0.1038081 ,\n",
       "        0.04461986]], dtype=float32)"
      ]
     },
     "execution_count": 236,
     "metadata": {
      "tags": []
     },
     "output_type": "execute_result"
    }
   ],
   "source": [
    "y_pred=ann.predict(X_test)\n",
    "y_pred.T"
   ]
  },
  {
   "cell_type": "code",
   "execution_count": null,
   "metadata": {
    "id": "-9sBfY2_OSEI"
   },
   "outputs": [],
   "source": [
    "m=ann.predict_proba(X_test)[:]"
   ]
  },
  {
   "cell_type": "code",
   "execution_count": null,
   "metadata": {
    "id": "XKOso1rmVBpD"
   },
   "outputs": [],
   "source": [
    "# Reference is https://gist.github.com/jaimezorno/00036a53661e441c600e7ca29c995d29\n",
    "\n",
    "def plot_Lift_curve(y_val, y_pred, step=0.01):\n",
    "    \n",
    "    #Define an auxiliar dataframe to plot the curve\n",
    "    aux_lift = pd.DataFrame()\n",
    "    #Create a real and predicted column for our new DataFrame and assign values\n",
    "    aux_lift['real'] = y_val\n",
    "    aux_lift['predicted'] = y_pred\n",
    "    #Order the values for the predicted probability column:\n",
    "    aux_lift.sort_values('predicted',ascending=False,inplace=True)\n",
    "    \n",
    "    #Create the values that will go into the X axis of our plot\n",
    "    x_val = np.arange(step,1+step,step)\n",
    "    #Calculate the ratio of ones in our data\n",
    "    ratio_ones = aux_lift['real'].sum() / len(aux_lift)\n",
    "    #Create an empty vector with the values that will go on the Y axis our our plot\n",
    "    y_v = []\n",
    "    \n",
    "    #Calculate for each x value its correspondent y value\n",
    "    for x in x_val:\n",
    "        num_data = int(np.ceil(x*len(aux_lift))) #The ceil function returns the closest integer bigger than our number \n",
    "        data_here = aux_lift.iloc[:num_data,:]   # ie. np.ceil(1.4) = 2\n",
    "        ratio_ones_here = data_here['real'].sum()/len(data_here)\n",
    "        y_v.append(ratio_ones_here / ratio_ones)\n",
    "           \n",
    "   #Plot the figure\n",
    "    fig, axis = plt.subplots()\n",
    "    fig.figsize = (40,40)\n",
    "    axis.plot(x_val, y_v, 'g-', linewidth = 3, markersize = 5)\n",
    "    axis.plot(x_val, np.ones(len(x_val)), 'k-')\n",
    "    axis.set_xlabel('Proportion of sample')\n",
    "    axis.set_ylabel('Lift')\n",
    "    plt.title('Lift Curve')\n",
    "    plt.show()\n"
   ]
  },
  {
   "cell_type": "markdown",
   "metadata": {
    "id": "ojtsfE7Y76k1"
   },
   "source": []
  },
  {
   "cell_type": "markdown",
   "metadata": {
    "id": "XvydthZW5DoR"
   },
   "source": [
    "## Lift Curve\n",
    "\n",
    "### For, lift curve, I tried to use scikit plot but it doesn't work.  Although I tried reshaping and transposes the array matrix. So I used a function(as above) to perform this. Lift is a measure of the effectiveness of a predictive model calculated as the ratio between the results obtained with and without the predictive model. The greater the area between the lift curve and the baseline, the better the model. The lift chart shows how much more likely we are to receive respondents than if we contact a random sample of customers. By contacting only 10% of customers based on the predictive model we will reach 5 times as many respondents as if we use no model. "
   ]
  },
  {
   "cell_type": "code",
   "execution_count": null,
   "metadata": {
    "colab": {
     "base_uri": "https://localhost:8080/",
     "height": 301
    },
    "id": "XepkXrfXVHNC",
    "outputId": "d8169883-9581-40f3-eed6-3be7e3dc1bc0"
   },
   "outputs": [
    {
     "data": {
      "image/png": "[encoded data removed]",
      "text/plain": [
       "<Figure size 432x288 with 1 Axes>"
      ]
     },
     "metadata": {
      "tags": []
     },
     "output_type": "display_data"
    }
   ],
   "source": [
    "plot_Lift_curve(y_test, y_pred)"
   ]
  },
  {
   "cell_type": "code",
   "execution_count": null,
   "metadata": {
    "id": "DRvcpt-sENSS"
   },
   "outputs": [],
   "source": []
  },
  {
   "cell_type": "code",
   "execution_count": null,
   "metadata": {
    "id": "7KDt_V20ENl1"
   },
   "outputs": [],
   "source": []
  },
  {
   "cell_type": "markdown",
   "metadata": {
    "id": "DvbkmrP883XC"
   },
   "source": [
    "## Comparison\n",
    "\n",
    "### Just due to curiosity, I compared the neural network model with the other classification models. For comparison of the neural network model, I used the Logistic regression, Naive Bayes and KNN. From these I got given results and confusion matrix.\n",
    "\n",
    "![Capture.PNG](data:image/png;base64,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)\n"
   ]
  },
  {
   "cell_type": "code",
   "execution_count": 17,
   "metadata": {
    "colab": {
     "base_uri": "https://localhost:8080/",
     "height": 69
    },
    "id": "OSv6Wf2V4E6y",
    "outputId": "886f2614-f8c4-4214-ebff-6920088f6436"
   },
   "outputs": [
    {
     "name": "stdout",
     "output_type": "stream",
     "text": [
      "Logistic Regression specificity, Precision, Recall(Sensitivity), accuracy are 0.9794073329984933 0.6583333333333333 0.15520628683693516 0.8116\n"
     ]
    },
    {
     "data": {
      "text/plain": [
       "array([[1950,   41],\n",
       "       [ 430,   79]])"
      ]
     },
     "execution_count": 17,
     "metadata": {
      "tags": []
     },
     "output_type": "execute_result"
    }
   ],
   "source": [
    "from sklearn.linear_model import LogisticRegression\n",
    "from sklearn.metrics import confusion_matrix\n",
    "classifier_LR=LogisticRegression(random_state=0)\n",
    "classifier_LR.fit(X_train, y_train)\n",
    "y_pred_LR=classifier_LR.predict(X_test)\n",
    "cm_LR=confusion_matrix(y_test, y_pred_LR)\n",
    "\n",
    "accuracy=(1950+79)/(1950+79+41+430)\n",
    "tn, fp, fn, tp = confusion_matrix(y_test, y_pred_LR).ravel()\n",
    "specificity = tn / (tn+fp)\n",
    "Precision = tp/(tp+fp)\n",
    "Recall = tp/(tp+fn)\n",
    "print(\"Logistic Regression specificity, Precision, Recall(Sensitivity), accuracy are\", specificity, Precision, Recall, accuracy)\n",
    "cm_LR"
   ]
  },
  {
   "cell_type": "code",
   "execution_count": 65,
   "metadata": {
    "colab": {
     "base_uri": "https://localhost:8080/",
     "height": 35
    },
    "id": "-kQI0l8I4E-V",
    "outputId": "c4a872d2-0d74-4e1d-ffbe-b6c8f2d8bc58"
   },
   "outputs": [
    {
     "name": "stdout",
     "output_type": "stream",
     "text": [
      "K Nearest Neighbor, specificity, Precision, Recall(Sensitivity), accuracy are 0.9492717227523857 0.6273062730627307 0.33398821218074654 0.824\n"
     ]
    }
   ],
   "source": [
    "from sklearn.neighbors import KNeighborsClassifier\n",
    "classifier_knn=KNeighborsClassifier(n_neighbors=5, metric=\"minkowski\", p=2)\n",
    "classifier_knn.fit(X_train, y_train)\n",
    "y_pred_knn=classifier_knn.predict(X_test)\n",
    "accuracy=(1890+170)/(1890+170+101+339)\n",
    "tn, fp, fn, tp = confusion_matrix(y_test, y_pred_knn).ravel()\n",
    "specificity = tn / (tn+fp)\n",
    "Precision = tp/(tp+fp)\n",
    "Recall = tp/(tp+fn)\n",
    "print(\"K Nearest Neighbor, specificity, Precision, Recall(Sensitivity), accuracy are\", specificity, Precision, Recall, accuracy)"
   ]
  },
  {
   "cell_type": "code",
   "execution_count": 19,
   "metadata": {
    "colab": {
     "base_uri": "https://localhost:8080/",
     "height": 52
    },
    "id": "LLQgRhug4FDM",
    "outputId": "df0a681e-f712-4322-b070-0f075c3c30dd"
   },
   "outputs": [
    {
     "data": {
      "text/plain": [
       "array([[1890,  101],\n",
       "       [ 339,  170]])"
      ]
     },
     "execution_count": 19,
     "metadata": {
      "tags": []
     },
     "output_type": "execute_result"
    }
   ],
   "source": [
    "cm_knn=confusion_matrix(y_test, y_pred_knn)\n",
    "cm_knn"
   ]
  },
  {
   "cell_type": "code",
   "execution_count": 67,
   "metadata": {
    "colab": {
     "base_uri": "https://localhost:8080/",
     "height": 35
    },
    "id": "L93IPeRZ4FHd",
    "outputId": "f6647f8a-d5cb-40b3-8664-57f03000e509"
   },
   "outputs": [
    {
     "name": "stdout",
     "output_type": "stream",
     "text": [
      "Naive Bayes specificity, Precision, Recall(Sensitivity), accuracy are 0.9291813159216474 0.5674846625766872 0.36345776031434185 0.814\n"
     ]
    }
   ],
   "source": [
    "from sklearn.naive_bayes import GaussianNB\n",
    "classifier_NB=GaussianNB()\n",
    "classifier_NB.fit(X_train, y_train)\n",
    "y_pred_NB=classifier_NB.predict(X_test)\n",
    "accuracy=(1850+185)/(1850+185+141+324)\n",
    "tn, fp, fn, tp = confusion_matrix(y_test, y_pred_NB).ravel()\n",
    "specificity = tn / (tn+fp)\n",
    "Precision = tp/(tp+fp)\n",
    "Recall = tp/(tp+fn)\n",
    "print(\"Naive Bayes specificity, Precision, Recall(Sensitivity), accuracy are\", specificity, Precision, Recall, accuracy)"
   ]
  },
  {
   "cell_type": "code",
   "execution_count": 21,
   "metadata": {
    "colab": {
     "base_uri": "https://localhost:8080/",
     "height": 52
    },
    "id": "w2cpMZAr4FL5",
    "outputId": "e8ab97bb-8bbb-4e1a-d932-60e5708b9e65"
   },
   "outputs": [
    {
     "data": {
      "text/plain": [
       "array([[1850,  141],\n",
       "       [ 324,  185]])"
      ]
     },
     "execution_count": 21,
     "metadata": {
      "tags": []
     },
     "output_type": "execute_result"
    }
   ],
   "source": [
    "cm_NB=confusion_matrix(y_test, y_pred_NB)\n",
    "cm_NB"
   ]
  },
  {
   "cell_type": "code",
   "execution_count": 74,
   "metadata": {
    "id": "IHDzRfrAU9Sa"
   },
   "outputs": [],
   "source": [
    "from sklearn.ensemble import AdaBoostClassifier, GradientBoostingClassifier\n",
    "from sklearn.svm import SVC\n",
    "classifiers = [LogisticRegression(random_state=0 ), \n",
    "               GaussianNB(),\n",
    "               KNeighborsClassifier(n_neighbors=5, metric=\"minkowski\", p=2),\n",
    "               ]\n",
    "for c in classifiers:\n",
    "    c.fit(X_train, y_train)"
   ]
  },
  {
   "cell_type": "code",
   "execution_count": 100,
   "metadata": {
    "colab": {
     "base_uri": "https://localhost:8080/",
     "height": 596
    },
    "id": "rwsvlZyEayJ8",
    "outputId": "6f443196-8ab6-438a-b370-c2b85d5b0d18"
   },
   "outputs": [
    {
     "data": {
      "image/png": "[encoded data removed]",
      "text/plain": [
       "<Figure size 1440x720 with 6 Axes>"
      ]
     },
     "metadata": {
      "needs_background": "light",
      "tags": []
     },
     "output_type": "display_data"
    }
   ],
   "source": [
    "from matplotlib.font_manager import FontProperties\n",
    "\n",
    "font = FontProperties()\n",
    "font.set_family('serif')\n",
    "font.set_name('Times New Roman')\n",
    "font.set_style('italic')\n",
    "fig, axes = plt.subplots(nrows=1, ncols=3, figsize=(20,10))\n",
    "\n",
    "for c, ax in zip(classifiers, axes.flatten()):\n",
    "    plot_confusion_matrix(c, \n",
    "                          X_test, \n",
    "                          y_test, \n",
    "                          ax=ax, \n",
    "                          cmap='BuGn' )\n",
    "    ax.title.set_text(\"Confusion Matrix of \"+type(c).__name__)\n",
    "\n",
    "plt.tight_layout()  \n",
    "plt.show()"
   ]
  },
  {
   "cell_type": "code",
   "execution_count": null,
   "metadata": {
    "id": "EnmT-Z3qEPi8"
   },
   "outputs": [],
   "source": []
  },
  {
   "cell_type": "code",
   "execution_count": null,
   "metadata": {
    "id": "kUznChbBEPWw"
   },
   "outputs": [],
   "source": []
  },
  {
   "cell_type": "markdown",
   "metadata": {
    "id": "cvoIpKOIBVcR"
   },
   "source": [
    "## CONCLUSION\n",
    "\n",
    "### In this, I used neural networking with tensorflow, keras libraries. I used different hyperparameters like different optimizers, different values of learning rate, different activation function etc. I got 0.87 accuracy of the best model. I validated the model by test set and plotted lift curve too. I also made confusion matrix to better grasp the values.\n",
    "\n",
    " ![Capture.PNG](data:image/png;base64,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)\n",
    "\n",
    " Just out of curiosity, I compared neural netwoking model with other classification models and found these values. We can see accuracy is best of neural network model. Also Precision and Recall of other models are not good. "
   ]
  },
  {
   "cell_type": "code",
   "execution_count": null,
   "metadata": {
    "id": "iOcoQ1e8FOch"
   },
   "outputs": [],
   "source": []
  }
 ],
 "metadata": {
  "colab": {
   "name": "Assignment5.ipynb",
   "provenance": []
  },
  "kernelspec": {
   "display_name": "Python 3",
   "language": "python",
   "name": "python3"
  },
  "language_info": {
   "codemirror_mode": {
    "name": "ipython",
    "version": 3
   },
   "file_extension": ".py",
   "mimetype": "text/x-python",
   "name": "python",
   "nbconvert_exporter": "python",
   "pygments_lexer": "ipython3",
   "version": "3.7.6"
  }
 },
 "nbformat": 4,
 "nbformat_minor": 1
}
